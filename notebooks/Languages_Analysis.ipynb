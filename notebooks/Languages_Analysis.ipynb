{
 "cells": [
  {
   "cell_type": "code",
   "execution_count": 1,
   "metadata": {},
   "outputs": [],
   "source": [
    "import pandas as pd\n",
    "import seaborn as sns\n",
    "import numpy as np\n",
    "import matplotlib.pyplot as plt"
   ]
  },
  {
   "cell_type": "markdown",
   "metadata": {},
   "source": [
    "## Language analysis"
   ]
  },
  {
   "cell_type": "code",
   "execution_count": 2,
   "metadata": {},
   "outputs": [],
   "source": [
    "df = pd.read_csv('words_with_translation_corrected.csv', sep = ';', parse_dates= True)"
   ]
  },
  {
   "cell_type": "code",
   "execution_count": 3,
   "metadata": {},
   "outputs": [],
   "source": [
    "df = df.replace('German', 'german')"
   ]
  },
  {
   "cell_type": "code",
   "execution_count": 4,
   "metadata": {},
   "outputs": [
    {
     "data": {
      "text/html": [
       "<div>\n",
       "<style scoped>\n",
       "    .dataframe tbody tr th:only-of-type {\n",
       "        vertical-align: middle;\n",
       "    }\n",
       "\n",
       "    .dataframe tbody tr th {\n",
       "        vertical-align: top;\n",
       "    }\n",
       "\n",
       "    .dataframe thead th {\n",
       "        text-align: right;\n",
       "    }\n",
       "</style>\n",
       "<table border=\"1\" class=\"dataframe\">\n",
       "  <thead>\n",
       "    <tr style=\"text-align: right;\">\n",
       "      <th></th>\n",
       "      <th>date</th>\n",
       "      <th>word</th>\n",
       "      <th>language</th>\n",
       "      <th>month</th>\n",
       "      <th>Leo_months</th>\n",
       "      <th>en_word</th>\n",
       "    </tr>\n",
       "  </thead>\n",
       "  <tbody>\n",
       "    <tr>\n",
       "      <th>0</th>\n",
       "      <td>2020-08-07</td>\n",
       "      <td>Mama</td>\n",
       "      <td>neutral</td>\n",
       "      <td>2020-08</td>\n",
       "      <td>9</td>\n",
       "      <td>Mama</td>\n",
       "    </tr>\n",
       "    <tr>\n",
       "      <th>1</th>\n",
       "      <td>2020-09-24</td>\n",
       "      <td>agua</td>\n",
       "      <td>spanish</td>\n",
       "      <td>2020-09</td>\n",
       "      <td>11</td>\n",
       "      <td>Water</td>\n",
       "    </tr>\n",
       "    <tr>\n",
       "      <th>2</th>\n",
       "      <td>2020-10-07</td>\n",
       "      <td>Abuela</td>\n",
       "      <td>spanish</td>\n",
       "      <td>2020-10</td>\n",
       "      <td>11</td>\n",
       "      <td>Grandmother</td>\n",
       "    </tr>\n",
       "    <tr>\n",
       "      <th>3</th>\n",
       "      <td>2020-10-31</td>\n",
       "      <td>luna</td>\n",
       "      <td>spanish</td>\n",
       "      <td>2020-10</td>\n",
       "      <td>12</td>\n",
       "      <td>Moon</td>\n",
       "    </tr>\n",
       "    <tr>\n",
       "      <th>4</th>\n",
       "      <td>2020-11-05</td>\n",
       "      <td>Banane</td>\n",
       "      <td>german</td>\n",
       "      <td>2020-11</td>\n",
       "      <td>12</td>\n",
       "      <td>banana</td>\n",
       "    </tr>\n",
       "  </tbody>\n",
       "</table>\n",
       "</div>"
      ],
      "text/plain": [
       "         date    word language    month  Leo_months      en_word\n",
       "0  2020-08-07    Mama  neutral  2020-08           9         Mama\n",
       "1  2020-09-24    agua  spanish  2020-09          11        Water\n",
       "2  2020-10-07  Abuela  spanish  2020-10          11  Grandmother\n",
       "3  2020-10-31    luna  spanish  2020-10          12         Moon\n",
       "4  2020-11-05  Banane   german  2020-11          12       banana"
      ]
     },
     "execution_count": 4,
     "metadata": {},
     "output_type": "execute_result"
    }
   ],
   "source": [
    "df.head()"
   ]
  },
  {
   "cell_type": "markdown",
   "metadata": {},
   "source": [
    "### Color dictionary"
   ]
  },
  {
   "cell_type": "code",
   "execution_count": 82,
   "metadata": {},
   "outputs": [],
   "source": [
    "colors = ['#F28123','#0099ab','#82A0BC']"
   ]
  },
  {
   "cell_type": "code",
   "execution_count": 83,
   "metadata": {},
   "outputs": [],
   "source": [
    "colors_dic = {'spanish':'#F28123', 'german':'#0099ab', 'neutral':'#82A0BC'}"
   ]
  },
  {
   "cell_type": "code",
   "execution_count": 84,
   "metadata": {},
   "outputs": [
    {
     "data": {
      "text/plain": [
       "'#F28123'"
      ]
     },
     "execution_count": 84,
     "metadata": {},
     "output_type": "execute_result"
    }
   ],
   "source": [
    "colors_dic['spanish']"
   ]
  },
  {
   "cell_type": "markdown",
   "metadata": {},
   "source": [
    "### Language distribution of total words"
   ]
  },
  {
   "cell_type": "markdown",
   "metadata": {},
   "source": [
    "Done in other notebook."
   ]
  },
  {
   "cell_type": "markdown",
   "metadata": {},
   "source": [
    "### Same words different language"
   ]
  },
  {
   "cell_type": "markdown",
   "metadata": {},
   "source": [
    "- Translate all to english: done\n",
    "    - Check & correct: done\n",
    "- Find duplicates:\n",
    "    - also tells y\n",
    "- Check how often spa/ger were first\n",
    "    - make hypothesis on why?\n",
    "- Plot in distance with arcs connecting"
   ]
  },
  {
   "cell_type": "code",
   "execution_count": 5,
   "metadata": {},
   "outputs": [
    {
     "data": {
      "text/plain": [
       "946"
      ]
     },
     "execution_count": 5,
     "metadata": {},
     "output_type": "execute_result"
    }
   ],
   "source": [
    "len(df.word.unique())"
   ]
  },
  {
   "cell_type": "code",
   "execution_count": 6,
   "metadata": {},
   "outputs": [],
   "source": [
    "df = df.drop_duplicates(subset= 'word', keep = 'first')"
   ]
  },
  {
   "cell_type": "code",
   "execution_count": 7,
   "metadata": {},
   "outputs": [],
   "source": [
    "df.en_word = df.en_word.str.lower()"
   ]
  },
  {
   "cell_type": "code",
   "execution_count": 8,
   "metadata": {},
   "outputs": [
    {
     "data": {
      "text/plain": [
       "805"
      ]
     },
     "execution_count": 8,
     "metadata": {},
     "output_type": "execute_result"
    }
   ],
   "source": [
    "len(df.en_word.unique())"
   ]
  },
  {
   "cell_type": "code",
   "execution_count": 14,
   "metadata": {},
   "outputs": [
    {
     "data": {
      "text/html": [
       "<div>\n",
       "<style scoped>\n",
       "    .dataframe tbody tr th:only-of-type {\n",
       "        vertical-align: middle;\n",
       "    }\n",
       "\n",
       "    .dataframe tbody tr th {\n",
       "        vertical-align: top;\n",
       "    }\n",
       "\n",
       "    .dataframe thead th {\n",
       "        text-align: right;\n",
       "    }\n",
       "</style>\n",
       "<table border=\"1\" class=\"dataframe\">\n",
       "  <thead>\n",
       "    <tr style=\"text-align: right;\">\n",
       "      <th></th>\n",
       "      <th>date</th>\n",
       "      <th>word</th>\n",
       "      <th>language</th>\n",
       "      <th>month</th>\n",
       "      <th>Leo_months</th>\n",
       "      <th>en_word</th>\n",
       "    </tr>\n",
       "  </thead>\n",
       "  <tbody>\n",
       "    <tr>\n",
       "      <th>1</th>\n",
       "      <td>2020-09-24</td>\n",
       "      <td>agua</td>\n",
       "      <td>spanish</td>\n",
       "      <td>2020-09</td>\n",
       "      <td>11</td>\n",
       "      <td>water</td>\n",
       "    </tr>\n",
       "    <tr>\n",
       "      <th>2</th>\n",
       "      <td>2020-10-07</td>\n",
       "      <td>Abuela</td>\n",
       "      <td>spanish</td>\n",
       "      <td>2020-10</td>\n",
       "      <td>11</td>\n",
       "      <td>grandmother</td>\n",
       "    </tr>\n",
       "    <tr>\n",
       "      <th>3</th>\n",
       "      <td>2020-10-31</td>\n",
       "      <td>luna</td>\n",
       "      <td>spanish</td>\n",
       "      <td>2020-10</td>\n",
       "      <td>12</td>\n",
       "      <td>moon</td>\n",
       "    </tr>\n",
       "    <tr>\n",
       "      <th>6</th>\n",
       "      <td>2020-11-18</td>\n",
       "      <td>Ball</td>\n",
       "      <td>german</td>\n",
       "      <td>2020-11</td>\n",
       "      <td>13</td>\n",
       "      <td>ball</td>\n",
       "    </tr>\n",
       "    <tr>\n",
       "      <th>8</th>\n",
       "      <td>2020-11-23</td>\n",
       "      <td>no</td>\n",
       "      <td>spanish</td>\n",
       "      <td>2020-11</td>\n",
       "      <td>13</td>\n",
       "      <td>no</td>\n",
       "    </tr>\n",
       "    <tr>\n",
       "      <th>...</th>\n",
       "      <td>...</td>\n",
       "      <td>...</td>\n",
       "      <td>...</td>\n",
       "      <td>...</td>\n",
       "      <td>...</td>\n",
       "      <td>...</td>\n",
       "    </tr>\n",
       "    <tr>\n",
       "      <th>981</th>\n",
       "      <td>2022-01-14</td>\n",
       "      <td>ándale</td>\n",
       "      <td>spanish</td>\n",
       "      <td>2022-01</td>\n",
       "      <td>26</td>\n",
       "      <td>come along</td>\n",
       "    </tr>\n",
       "    <tr>\n",
       "      <th>991</th>\n",
       "      <td>2022-01-16</td>\n",
       "      <td>Welt</td>\n",
       "      <td>german</td>\n",
       "      <td>2022-01</td>\n",
       "      <td>26</td>\n",
       "      <td>world</td>\n",
       "    </tr>\n",
       "    <tr>\n",
       "      <th>994</th>\n",
       "      <td>2022-01-16</td>\n",
       "      <td>paja</td>\n",
       "      <td>spanish</td>\n",
       "      <td>2022-01</td>\n",
       "      <td>26</td>\n",
       "      <td>straw</td>\n",
       "    </tr>\n",
       "    <tr>\n",
       "      <th>990</th>\n",
       "      <td>2022-01-16</td>\n",
       "      <td>weit</td>\n",
       "      <td>german</td>\n",
       "      <td>2022-01</td>\n",
       "      <td>26</td>\n",
       "      <td>far</td>\n",
       "    </tr>\n",
       "    <tr>\n",
       "      <th>1002</th>\n",
       "      <td>2022-01-17</td>\n",
       "      <td>bote</td>\n",
       "      <td>spanish</td>\n",
       "      <td>2022-01</td>\n",
       "      <td>26</td>\n",
       "      <td>boat</td>\n",
       "    </tr>\n",
       "  </tbody>\n",
       "</table>\n",
       "<p>269 rows × 6 columns</p>\n",
       "</div>"
      ],
      "text/plain": [
       "            date     word language    month  Leo_months      en_word\n",
       "1     2020-09-24     agua  spanish  2020-09          11        water\n",
       "2     2020-10-07   Abuela  spanish  2020-10          11  grandmother\n",
       "3     2020-10-31     luna  spanish  2020-10          12         moon\n",
       "6     2020-11-18     Ball   german  2020-11          13         ball\n",
       "8     2020-11-23       no  spanish  2020-11          13           no\n",
       "...          ...      ...      ...      ...         ...          ...\n",
       "981   2022-01-14  ándale   spanish  2022-01          26   come along\n",
       "991   2022-01-16     Welt   german  2022-01          26        world\n",
       "994   2022-01-16    paja   spanish  2022-01          26        straw\n",
       "990   2022-01-16     weit   german  2022-01          26          far\n",
       "1002  2022-01-17     bote  spanish  2022-01          26         boat\n",
       "\n",
       "[269 rows x 6 columns]"
      ]
     },
     "execution_count": 14,
     "metadata": {},
     "output_type": "execute_result"
    }
   ],
   "source": [
    "df[df.duplicated(subset = 'en_word', keep = False)].sort_values(by = ['date'])"
   ]
  },
  {
   "cell_type": "code",
   "execution_count": 9,
   "metadata": {},
   "outputs": [],
   "source": [
    "duplicated_concepts = df[df.duplicated(subset = 'en_word', keep = False)].sort_values(by = ['date'])"
   ]
  },
  {
   "cell_type": "code",
   "execution_count": 18,
   "metadata": {},
   "outputs": [],
   "source": [
    "concepts = df[df.duplicated(subset = 'en_word', keep = False)].sort_values(by = ['date'])['en_word'].unique()"
   ]
  },
  {
   "cell_type": "code",
   "execution_count": 19,
   "metadata": {},
   "outputs": [],
   "source": [
    "word_order = np.arange(len(df[df.duplicated(subset = 'en_word', keep = 'first')]))+1"
   ]
  },
  {
   "cell_type": "code",
   "execution_count": 20,
   "metadata": {},
   "outputs": [],
   "source": [
    "word_order_dict = dict(zip(concepts,word_order))"
   ]
  },
  {
   "cell_type": "code",
   "execution_count": 21,
   "metadata": {},
   "outputs": [
    {
     "data": {
      "text/html": [
       "<div>\n",
       "<style scoped>\n",
       "    .dataframe tbody tr th:only-of-type {\n",
       "        vertical-align: middle;\n",
       "    }\n",
       "\n",
       "    .dataframe tbody tr th {\n",
       "        vertical-align: top;\n",
       "    }\n",
       "\n",
       "    .dataframe thead th {\n",
       "        text-align: right;\n",
       "    }\n",
       "</style>\n",
       "<table border=\"1\" class=\"dataframe\">\n",
       "  <thead>\n",
       "    <tr style=\"text-align: right;\">\n",
       "      <th></th>\n",
       "      <th>date</th>\n",
       "      <th>word</th>\n",
       "      <th>language</th>\n",
       "      <th>month</th>\n",
       "      <th>Leo_months</th>\n",
       "      <th>en_word</th>\n",
       "    </tr>\n",
       "  </thead>\n",
       "  <tbody>\n",
       "    <tr>\n",
       "      <th>1</th>\n",
       "      <td>2020-09-24</td>\n",
       "      <td>agua</td>\n",
       "      <td>spanish</td>\n",
       "      <td>2020-09</td>\n",
       "      <td>11</td>\n",
       "      <td>water</td>\n",
       "    </tr>\n",
       "    <tr>\n",
       "      <th>2</th>\n",
       "      <td>2020-10-07</td>\n",
       "      <td>Abuela</td>\n",
       "      <td>spanish</td>\n",
       "      <td>2020-10</td>\n",
       "      <td>11</td>\n",
       "      <td>grandmother</td>\n",
       "    </tr>\n",
       "    <tr>\n",
       "      <th>3</th>\n",
       "      <td>2020-10-31</td>\n",
       "      <td>luna</td>\n",
       "      <td>spanish</td>\n",
       "      <td>2020-10</td>\n",
       "      <td>12</td>\n",
       "      <td>moon</td>\n",
       "    </tr>\n",
       "    <tr>\n",
       "      <th>6</th>\n",
       "      <td>2020-11-18</td>\n",
       "      <td>Ball</td>\n",
       "      <td>german</td>\n",
       "      <td>2020-11</td>\n",
       "      <td>13</td>\n",
       "      <td>ball</td>\n",
       "    </tr>\n",
       "    <tr>\n",
       "      <th>8</th>\n",
       "      <td>2020-11-23</td>\n",
       "      <td>no</td>\n",
       "      <td>spanish</td>\n",
       "      <td>2020-11</td>\n",
       "      <td>13</td>\n",
       "      <td>no</td>\n",
       "    </tr>\n",
       "    <tr>\n",
       "      <th>...</th>\n",
       "      <td>...</td>\n",
       "      <td>...</td>\n",
       "      <td>...</td>\n",
       "      <td>...</td>\n",
       "      <td>...</td>\n",
       "      <td>...</td>\n",
       "    </tr>\n",
       "    <tr>\n",
       "      <th>981</th>\n",
       "      <td>2022-01-14</td>\n",
       "      <td>ándale</td>\n",
       "      <td>spanish</td>\n",
       "      <td>2022-01</td>\n",
       "      <td>26</td>\n",
       "      <td>come along</td>\n",
       "    </tr>\n",
       "    <tr>\n",
       "      <th>991</th>\n",
       "      <td>2022-01-16</td>\n",
       "      <td>Welt</td>\n",
       "      <td>german</td>\n",
       "      <td>2022-01</td>\n",
       "      <td>26</td>\n",
       "      <td>world</td>\n",
       "    </tr>\n",
       "    <tr>\n",
       "      <th>994</th>\n",
       "      <td>2022-01-16</td>\n",
       "      <td>paja</td>\n",
       "      <td>spanish</td>\n",
       "      <td>2022-01</td>\n",
       "      <td>26</td>\n",
       "      <td>straw</td>\n",
       "    </tr>\n",
       "    <tr>\n",
       "      <th>990</th>\n",
       "      <td>2022-01-16</td>\n",
       "      <td>weit</td>\n",
       "      <td>german</td>\n",
       "      <td>2022-01</td>\n",
       "      <td>26</td>\n",
       "      <td>far</td>\n",
       "    </tr>\n",
       "    <tr>\n",
       "      <th>1002</th>\n",
       "      <td>2022-01-17</td>\n",
       "      <td>bote</td>\n",
       "      <td>spanish</td>\n",
       "      <td>2022-01</td>\n",
       "      <td>26</td>\n",
       "      <td>boat</td>\n",
       "    </tr>\n",
       "  </tbody>\n",
       "</table>\n",
       "<p>269 rows × 6 columns</p>\n",
       "</div>"
      ],
      "text/plain": [
       "            date     word language    month  Leo_months      en_word\n",
       "1     2020-09-24     agua  spanish  2020-09          11        water\n",
       "2     2020-10-07   Abuela  spanish  2020-10          11  grandmother\n",
       "3     2020-10-31     luna  spanish  2020-10          12         moon\n",
       "6     2020-11-18     Ball   german  2020-11          13         ball\n",
       "8     2020-11-23       no  spanish  2020-11          13           no\n",
       "...          ...      ...      ...      ...         ...          ...\n",
       "981   2022-01-14  ándale   spanish  2022-01          26   come along\n",
       "991   2022-01-16     Welt   german  2022-01          26        world\n",
       "994   2022-01-16    paja   spanish  2022-01          26        straw\n",
       "990   2022-01-16     weit   german  2022-01          26          far\n",
       "1002  2022-01-17     bote  spanish  2022-01          26         boat\n",
       "\n",
       "[269 rows x 6 columns]"
      ]
     },
     "execution_count": 21,
     "metadata": {},
     "output_type": "execute_result"
    }
   ],
   "source": [
    "duplicated_concepts"
   ]
  },
  {
   "cell_type": "code",
   "execution_count": 22,
   "metadata": {},
   "outputs": [],
   "source": [
    "duplicated_concepts['order'] = duplicated_concepts['en_word'].map(word_order_dict)"
   ]
  },
  {
   "cell_type": "code",
   "execution_count": 23,
   "metadata": {},
   "outputs": [
    {
     "data": {
      "text/html": [
       "<div>\n",
       "<style scoped>\n",
       "    .dataframe tbody tr th:only-of-type {\n",
       "        vertical-align: middle;\n",
       "    }\n",
       "\n",
       "    .dataframe tbody tr th {\n",
       "        vertical-align: top;\n",
       "    }\n",
       "\n",
       "    .dataframe thead th {\n",
       "        text-align: right;\n",
       "    }\n",
       "</style>\n",
       "<table border=\"1\" class=\"dataframe\">\n",
       "  <thead>\n",
       "    <tr style=\"text-align: right;\">\n",
       "      <th></th>\n",
       "      <th>date</th>\n",
       "      <th>word</th>\n",
       "      <th>language</th>\n",
       "      <th>month</th>\n",
       "      <th>Leo_months</th>\n",
       "      <th>en_word</th>\n",
       "      <th>order</th>\n",
       "    </tr>\n",
       "  </thead>\n",
       "  <tbody>\n",
       "    <tr>\n",
       "      <th>1</th>\n",
       "      <td>2020-09-24</td>\n",
       "      <td>agua</td>\n",
       "      <td>spanish</td>\n",
       "      <td>2020-09</td>\n",
       "      <td>11</td>\n",
       "      <td>water</td>\n",
       "      <td>1</td>\n",
       "    </tr>\n",
       "    <tr>\n",
       "      <th>100</th>\n",
       "      <td>2021-04-22</td>\n",
       "      <td>Wasser</td>\n",
       "      <td>german</td>\n",
       "      <td>2021-04</td>\n",
       "      <td>18</td>\n",
       "      <td>water</td>\n",
       "      <td>1</td>\n",
       "    </tr>\n",
       "    <tr>\n",
       "      <th>42</th>\n",
       "      <td>2021-02-15</td>\n",
       "      <td>Oma</td>\n",
       "      <td>german</td>\n",
       "      <td>2021-02</td>\n",
       "      <td>15</td>\n",
       "      <td>grandmother</td>\n",
       "      <td>2</td>\n",
       "    </tr>\n",
       "    <tr>\n",
       "      <th>2</th>\n",
       "      <td>2020-10-07</td>\n",
       "      <td>Abuela</td>\n",
       "      <td>spanish</td>\n",
       "      <td>2020-10</td>\n",
       "      <td>11</td>\n",
       "      <td>grandmother</td>\n",
       "      <td>2</td>\n",
       "    </tr>\n",
       "    <tr>\n",
       "      <th>3</th>\n",
       "      <td>2020-10-31</td>\n",
       "      <td>luna</td>\n",
       "      <td>spanish</td>\n",
       "      <td>2020-10</td>\n",
       "      <td>12</td>\n",
       "      <td>moon</td>\n",
       "      <td>3</td>\n",
       "    </tr>\n",
       "  </tbody>\n",
       "</table>\n",
       "</div>"
      ],
      "text/plain": [
       "           date    word language    month  Leo_months      en_word  order\n",
       "1    2020-09-24    agua  spanish  2020-09          11        water      1\n",
       "100  2021-04-22  Wasser   german  2021-04          18        water      1\n",
       "42   2021-02-15     Oma   german  2021-02          15  grandmother      2\n",
       "2    2020-10-07  Abuela  spanish  2020-10          11  grandmother      2\n",
       "3    2020-10-31    luna  spanish  2020-10          12         moon      3"
      ]
     },
     "execution_count": 23,
     "metadata": {},
     "output_type": "execute_result"
    }
   ],
   "source": [
    "duplicated_concepts.sort_values(by = 'order').head()"
   ]
  },
  {
   "cell_type": "code",
   "execution_count": 24,
   "metadata": {},
   "outputs": [
    {
     "data": {
      "text/html": [
       "<div>\n",
       "<style scoped>\n",
       "    .dataframe tbody tr th:only-of-type {\n",
       "        vertical-align: middle;\n",
       "    }\n",
       "\n",
       "    .dataframe tbody tr th {\n",
       "        vertical-align: top;\n",
       "    }\n",
       "\n",
       "    .dataframe thead th {\n",
       "        text-align: right;\n",
       "    }\n",
       "</style>\n",
       "<table border=\"1\" class=\"dataframe\">\n",
       "  <thead>\n",
       "    <tr style=\"text-align: right;\">\n",
       "      <th></th>\n",
       "      <th>date</th>\n",
       "      <th>word</th>\n",
       "      <th>language</th>\n",
       "      <th>month</th>\n",
       "      <th>Leo_months</th>\n",
       "      <th>en_word</th>\n",
       "      <th>order</th>\n",
       "    </tr>\n",
       "  </thead>\n",
       "  <tbody>\n",
       "    <tr>\n",
       "      <th>61</th>\n",
       "      <td>2021-03-15</td>\n",
       "      <td>bubbles</td>\n",
       "      <td>neutral</td>\n",
       "      <td>2021-03</td>\n",
       "      <td>16</td>\n",
       "      <td>bubbles</td>\n",
       "      <td>23</td>\n",
       "    </tr>\n",
       "    <tr>\n",
       "      <th>117</th>\n",
       "      <td>2021-04-30</td>\n",
       "      <td>bye</td>\n",
       "      <td>neutral</td>\n",
       "      <td>2021-04</td>\n",
       "      <td>18</td>\n",
       "      <td>bye</td>\n",
       "      <td>13</td>\n",
       "    </tr>\n",
       "  </tbody>\n",
       "</table>\n",
       "</div>"
      ],
      "text/plain": [
       "           date     word language    month  Leo_months  en_word  order\n",
       "61   2021-03-15  bubbles  neutral  2021-03          16  bubbles     23\n",
       "117  2021-04-30      bye  neutral  2021-04          18      bye     13"
      ]
     },
     "execution_count": 24,
     "metadata": {},
     "output_type": "execute_result"
    }
   ],
   "source": [
    "duplicated_concepts.loc[duplicated_concepts['language'] == 'neutral']"
   ]
  },
  {
   "cell_type": "code",
   "execution_count": 42,
   "metadata": {},
   "outputs": [],
   "source": [
    "word = 'water'"
   ]
  },
  {
   "cell_type": "code",
   "execution_count": 55,
   "metadata": {},
   "outputs": [],
   "source": [
    "# y axis"
   ]
  },
  {
   "cell_type": "code",
   "execution_count": 53,
   "metadata": {},
   "outputs": [
    {
     "data": {
      "text/plain": [
       "1"
      ]
     },
     "execution_count": 53,
     "metadata": {},
     "output_type": "execute_result"
    }
   ],
   "source": [
    "duplicated_concepts.loc[duplicated_concepts.en_word == word].reset_index().iloc[0].order"
   ]
  },
  {
   "cell_type": "code",
   "execution_count": null,
   "metadata": {},
   "outputs": [],
   "source": [
    "#x start"
   ]
  },
  {
   "cell_type": "code",
   "execution_count": 56,
   "metadata": {},
   "outputs": [
    {
     "data": {
      "text/plain": [
       "11"
      ]
     },
     "execution_count": 56,
     "metadata": {},
     "output_type": "execute_result"
    }
   ],
   "source": [
    "duplicated_concepts.loc[duplicated_concepts.en_word == word].reset_index().iloc[0].Leo_months"
   ]
  },
  {
   "cell_type": "code",
   "execution_count": null,
   "metadata": {},
   "outputs": [],
   "source": [
    "# x end"
   ]
  },
  {
   "cell_type": "code",
   "execution_count": 57,
   "metadata": {},
   "outputs": [
    {
     "data": {
      "text/plain": [
       "18"
      ]
     },
     "execution_count": 57,
     "metadata": {},
     "output_type": "execute_result"
    }
   ],
   "source": [
    "duplicated_concepts.loc[duplicated_concepts.en_word == word].reset_index().iloc[1].Leo_months"
   ]
  },
  {
   "cell_type": "code",
   "execution_count": 74,
   "metadata": {},
   "outputs": [
    {
     "data": {
      "text/plain": [
       "'spanish'"
      ]
     },
     "execution_count": 74,
     "metadata": {},
     "output_type": "execute_result"
    }
   ],
   "source": [
    "duplicated_concepts.loc[duplicated_concepts.en_word == word].reset_index().iloc[0].language"
   ]
  },
  {
   "cell_type": "code",
   "execution_count": 75,
   "metadata": {},
   "outputs": [
    {
     "data": {
      "text/plain": [
       "'#F28123'"
      ]
     },
     "execution_count": 75,
     "metadata": {},
     "output_type": "execute_result"
    }
   ],
   "source": [
    "colors_dic[duplicated_concepts.loc[duplicated_concepts.en_word == word].reset_index().iloc[0].language]"
   ]
  },
  {
   "cell_type": "code",
   "execution_count": 89,
   "metadata": {},
   "outputs": [
    {
     "data": {
      "image/png": "[encoded data removed]",
      "text/plain": [
       "<Figure size 432x1800 with 1 Axes>"
      ]
     },
     "metadata": {
      "needs_background": "light"
     },
     "output_type": "display_data"
    }
   ],
   "source": [
    "import numpy as np\n",
    "import matplotlib.pyplot as plt\n",
    "\n",
    "fig = plt.figure(figsize = (6,25))\n",
    "ax = sns.scatterplot(data = duplicated_concepts, \n",
    "               x = 'Leo_months', \n",
    "               y = 'order', \n",
    "               hue = 'language',\n",
    "               palette = colors)\n",
    "\n",
    "major_ticks = np.arange(1, 130, 1)\n",
    "\n",
    "ax.set_ylim(0, 128)\n",
    "ax.set_yticks(major_ticks)\n",
    "ax.set_yticklabels(concepts)\n",
    "ax.set_ylabel(\"\")\n",
    "\n",
    "# And a corresponding grid\n",
    "#ax.grid(which='major', axis = 'y')\n",
    "sns.despine()\n",
    "\n",
    "word = 'water'\n",
    "for word in concepts:\n",
    "    y = duplicated_concepts.loc[duplicated_concepts.en_word == word].reset_index().iloc[0].order\n",
    "    x_start = duplicated_concepts.loc[duplicated_concepts.en_word == word].reset_index().iloc[0].Leo_months\n",
    "    x_end = duplicated_concepts.loc[duplicated_concepts.en_word == word].reset_index().iloc[1].Leo_months\n",
    "    color = colors_dic[duplicated_concepts.loc[duplicated_concepts.en_word == word].reset_index().iloc[0].language]\n",
    "    ax.hlines(y, x_start, x_end, color, linewidth=2)\n",
    "\n",
    "plt.tight_layout()\n",
    "plt.savefig('concepts_first_language.png')"
   ]
  },
  {
   "cell_type": "markdown",
   "metadata": {},
   "source": [
    "### Expansion of semantic space"
   ]
  },
  {
   "cell_type": "markdown",
   "metadata": {},
   "source": [
    "- Get word vectors for every word\n",
    "    - Q: What to do with compound words? 'Get out?'\n",
    "        - Take average?\n",
    "        - Use both?\n",
    "- Make PCA \n",
    "+ Clustering?\n",
    "    - Hopefully identify clear groups\n",
    "- Plot in time\n",
    "    - and with the language used"
   ]
  }
 ],
 "metadata": {
  "kernelspec": {
   "display_name": "Python 3",
   "language": "python",
   "name": "python3"
  },
  "language_info": {
   "codemirror_mode": {
    "name": "ipython",
    "version": 3
   },
   "file_extension": ".py",
   "mimetype": "text/x-python",
   "name": "python",
   "nbconvert_exporter": "python",
   "pygments_lexer": "ipython3",
   "version": "3.8.3"
  }
 },
 "nbformat": 4,
 "nbformat_minor": 4
}
