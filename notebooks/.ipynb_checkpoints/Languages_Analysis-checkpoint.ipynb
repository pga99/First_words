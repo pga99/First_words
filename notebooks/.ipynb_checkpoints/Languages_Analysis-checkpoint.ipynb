{
 "cells": [
  {
   "cell_type": "code",
   "execution_count": 1,
   "metadata": {},
   "outputs": [],
   "source": [
    "import pandas as pd\n",
    "import seaborn as sns\n",
    "import numpy as np\n",
    "import matplotlib.pyplot as plt"
   ]
  },
  {
   "cell_type": "markdown",
   "metadata": {},
   "source": [
    "## Language analysis"
   ]
  },
  {
   "cell_type": "code",
   "execution_count": 2,
   "metadata": {},
   "outputs": [],
   "source": [
    "df = pd.read_csv('../data/words_with_translation_corrected.csv', sep = ';', parse_dates= True)"
   ]
  },
  {
   "cell_type": "code",
   "execution_count": 3,
   "metadata": {},
   "outputs": [],
   "source": [
    "df = df.replace('German', 'german')"
   ]
  },
  {
   "cell_type": "code",
   "execution_count": 4,
   "metadata": {},
   "outputs": [
    {
     "data": {
      "text/html": [
       "<div>\n",
       "<style scoped>\n",
       "    .dataframe tbody tr th:only-of-type {\n",
       "        vertical-align: middle;\n",
       "    }\n",
       "\n",
       "    .dataframe tbody tr th {\n",
       "        vertical-align: top;\n",
       "    }\n",
       "\n",
       "    .dataframe thead th {\n",
       "        text-align: right;\n",
       "    }\n",
       "</style>\n",
       "<table border=\"1\" class=\"dataframe\">\n",
       "  <thead>\n",
       "    <tr style=\"text-align: right;\">\n",
       "      <th></th>\n",
       "      <th>date</th>\n",
       "      <th>word</th>\n",
       "      <th>language</th>\n",
       "      <th>month</th>\n",
       "      <th>Leo_months</th>\n",
       "      <th>en_word</th>\n",
       "    </tr>\n",
       "  </thead>\n",
       "  <tbody>\n",
       "    <tr>\n",
       "      <th>0</th>\n",
       "      <td>2020-08-07</td>\n",
       "      <td>Mama</td>\n",
       "      <td>neutral</td>\n",
       "      <td>2020-08</td>\n",
       "      <td>9</td>\n",
       "      <td>Mama</td>\n",
       "    </tr>\n",
       "    <tr>\n",
       "      <th>1</th>\n",
       "      <td>2020-09-24</td>\n",
       "      <td>agua</td>\n",
       "      <td>spanish</td>\n",
       "      <td>2020-09</td>\n",
       "      <td>11</td>\n",
       "      <td>Water</td>\n",
       "    </tr>\n",
       "    <tr>\n",
       "      <th>2</th>\n",
       "      <td>2020-10-07</td>\n",
       "      <td>Abuela</td>\n",
       "      <td>spanish</td>\n",
       "      <td>2020-10</td>\n",
       "      <td>11</td>\n",
       "      <td>Grandmother</td>\n",
       "    </tr>\n",
       "    <tr>\n",
       "      <th>3</th>\n",
       "      <td>2020-10-31</td>\n",
       "      <td>luna</td>\n",
       "      <td>spanish</td>\n",
       "      <td>2020-10</td>\n",
       "      <td>12</td>\n",
       "      <td>Moon</td>\n",
       "    </tr>\n",
       "    <tr>\n",
       "      <th>4</th>\n",
       "      <td>2020-11-05</td>\n",
       "      <td>Banane</td>\n",
       "      <td>german</td>\n",
       "      <td>2020-11</td>\n",
       "      <td>12</td>\n",
       "      <td>banana</td>\n",
       "    </tr>\n",
       "  </tbody>\n",
       "</table>\n",
       "</div>"
      ],
      "text/plain": [
       "         date    word language    month  Leo_months      en_word\n",
       "0  2020-08-07    Mama  neutral  2020-08           9         Mama\n",
       "1  2020-09-24    agua  spanish  2020-09          11        Water\n",
       "2  2020-10-07  Abuela  spanish  2020-10          11  Grandmother\n",
       "3  2020-10-31    luna  spanish  2020-10          12         Moon\n",
       "4  2020-11-05  Banane   german  2020-11          12       banana"
      ]
     },
     "execution_count": 4,
     "metadata": {},
     "output_type": "execute_result"
    }
   ],
   "source": [
    "df.head()"
   ]
  },
  {
   "cell_type": "markdown",
   "metadata": {},
   "source": [
    "### Color dictionary"
   ]
  },
  {
   "cell_type": "code",
   "execution_count": 5,
   "metadata": {},
   "outputs": [],
   "source": [
    "colors = ['#F28123','#0099ab','#82A0BC']"
   ]
  },
  {
   "cell_type": "code",
   "execution_count": 6,
   "metadata": {},
   "outputs": [],
   "source": [
    "colors_dic = {'spanish':'#F28123', 'german':'#0099ab', 'neutral':'#82A0BC'}"
   ]
  },
  {
   "cell_type": "code",
   "execution_count": 7,
   "metadata": {},
   "outputs": [
    {
     "data": {
      "text/plain": [
       "'#F28123'"
      ]
     },
     "execution_count": 7,
     "metadata": {},
     "output_type": "execute_result"
    }
   ],
   "source": [
    "colors_dic['spanish']"
   ]
  },
  {
   "cell_type": "markdown",
   "metadata": {},
   "source": [
    "### Language distribution of total words"
   ]
  },
  {
   "cell_type": "markdown",
   "metadata": {},
   "source": [
    "Done in other notebook."
   ]
  },
  {
   "cell_type": "markdown",
   "metadata": {},
   "source": [
    "### Same words different language"
   ]
  },
  {
   "cell_type": "markdown",
   "metadata": {},
   "source": [
    "- Translate all to english: done\n",
    "    - Check & correct: done\n",
    "- Find duplicates:\n",
    "    - also tells y\n",
    "- Check how often spa/ger were first\n",
    "    - make hypothesis on why?\n",
    "- Plot in distance with arcs connecting"
   ]
  },
  {
   "cell_type": "code",
   "execution_count": 8,
   "metadata": {},
   "outputs": [
    {
     "data": {
      "text/plain": [
       "946"
      ]
     },
     "execution_count": 8,
     "metadata": {},
     "output_type": "execute_result"
    }
   ],
   "source": [
    "len(df.word.unique())"
   ]
  },
  {
   "cell_type": "code",
   "execution_count": 9,
   "metadata": {},
   "outputs": [],
   "source": [
    "df = df.drop_duplicates(subset= 'word', keep = 'first')"
   ]
  },
  {
   "cell_type": "code",
   "execution_count": 10,
   "metadata": {},
   "outputs": [],
   "source": [
    "df.en_word = df.en_word.str.lower()"
   ]
  },
  {
   "cell_type": "code",
   "execution_count": 11,
   "metadata": {},
   "outputs": [
    {
     "data": {
      "text/plain": [
       "805"
      ]
     },
     "execution_count": 11,
     "metadata": {},
     "output_type": "execute_result"
    }
   ],
   "source": [
    "len(df.en_word.unique())"
   ]
  },
  {
   "cell_type": "code",
   "execution_count": 12,
   "metadata": {},
   "outputs": [
    {
     "data": {
      "text/html": [
       "<div>\n",
       "<style scoped>\n",
       "    .dataframe tbody tr th:only-of-type {\n",
       "        vertical-align: middle;\n",
       "    }\n",
       "\n",
       "    .dataframe tbody tr th {\n",
       "        vertical-align: top;\n",
       "    }\n",
       "\n",
       "    .dataframe thead th {\n",
       "        text-align: right;\n",
       "    }\n",
       "</style>\n",
       "<table border=\"1\" class=\"dataframe\">\n",
       "  <thead>\n",
       "    <tr style=\"text-align: right;\">\n",
       "      <th></th>\n",
       "      <th>date</th>\n",
       "      <th>word</th>\n",
       "      <th>language</th>\n",
       "      <th>month</th>\n",
       "      <th>Leo_months</th>\n",
       "      <th>en_word</th>\n",
       "    </tr>\n",
       "  </thead>\n",
       "  <tbody>\n",
       "    <tr>\n",
       "      <th>1</th>\n",
       "      <td>2020-09-24</td>\n",
       "      <td>agua</td>\n",
       "      <td>spanish</td>\n",
       "      <td>2020-09</td>\n",
       "      <td>11</td>\n",
       "      <td>water</td>\n",
       "    </tr>\n",
       "    <tr>\n",
       "      <th>2</th>\n",
       "      <td>2020-10-07</td>\n",
       "      <td>Abuela</td>\n",
       "      <td>spanish</td>\n",
       "      <td>2020-10</td>\n",
       "      <td>11</td>\n",
       "      <td>grandmother</td>\n",
       "    </tr>\n",
       "    <tr>\n",
       "      <th>3</th>\n",
       "      <td>2020-10-31</td>\n",
       "      <td>luna</td>\n",
       "      <td>spanish</td>\n",
       "      <td>2020-10</td>\n",
       "      <td>12</td>\n",
       "      <td>moon</td>\n",
       "    </tr>\n",
       "    <tr>\n",
       "      <th>6</th>\n",
       "      <td>2020-11-18</td>\n",
       "      <td>Ball</td>\n",
       "      <td>german</td>\n",
       "      <td>2020-11</td>\n",
       "      <td>13</td>\n",
       "      <td>ball</td>\n",
       "    </tr>\n",
       "    <tr>\n",
       "      <th>8</th>\n",
       "      <td>2020-11-23</td>\n",
       "      <td>no</td>\n",
       "      <td>spanish</td>\n",
       "      <td>2020-11</td>\n",
       "      <td>13</td>\n",
       "      <td>no</td>\n",
       "    </tr>\n",
       "    <tr>\n",
       "      <th>...</th>\n",
       "      <td>...</td>\n",
       "      <td>...</td>\n",
       "      <td>...</td>\n",
       "      <td>...</td>\n",
       "      <td>...</td>\n",
       "      <td>...</td>\n",
       "    </tr>\n",
       "    <tr>\n",
       "      <th>981</th>\n",
       "      <td>2022-01-14</td>\n",
       "      <td>ándale</td>\n",
       "      <td>spanish</td>\n",
       "      <td>2022-01</td>\n",
       "      <td>26</td>\n",
       "      <td>come along</td>\n",
       "    </tr>\n",
       "    <tr>\n",
       "      <th>991</th>\n",
       "      <td>2022-01-16</td>\n",
       "      <td>Welt</td>\n",
       "      <td>german</td>\n",
       "      <td>2022-01</td>\n",
       "      <td>26</td>\n",
       "      <td>world</td>\n",
       "    </tr>\n",
       "    <tr>\n",
       "      <th>994</th>\n",
       "      <td>2022-01-16</td>\n",
       "      <td>paja</td>\n",
       "      <td>spanish</td>\n",
       "      <td>2022-01</td>\n",
       "      <td>26</td>\n",
       "      <td>straw</td>\n",
       "    </tr>\n",
       "    <tr>\n",
       "      <th>990</th>\n",
       "      <td>2022-01-16</td>\n",
       "      <td>weit</td>\n",
       "      <td>german</td>\n",
       "      <td>2022-01</td>\n",
       "      <td>26</td>\n",
       "      <td>far</td>\n",
       "    </tr>\n",
       "    <tr>\n",
       "      <th>1002</th>\n",
       "      <td>2022-01-17</td>\n",
       "      <td>bote</td>\n",
       "      <td>spanish</td>\n",
       "      <td>2022-01</td>\n",
       "      <td>26</td>\n",
       "      <td>boat</td>\n",
       "    </tr>\n",
       "  </tbody>\n",
       "</table>\n",
       "<p>269 rows × 6 columns</p>\n",
       "</div>"
      ],
      "text/plain": [
       "            date     word language    month  Leo_months      en_word\n",
       "1     2020-09-24     agua  spanish  2020-09          11        water\n",
       "2     2020-10-07   Abuela  spanish  2020-10          11  grandmother\n",
       "3     2020-10-31     luna  spanish  2020-10          12         moon\n",
       "6     2020-11-18     Ball   german  2020-11          13         ball\n",
       "8     2020-11-23       no  spanish  2020-11          13           no\n",
       "...          ...      ...      ...      ...         ...          ...\n",
       "981   2022-01-14  ándale   spanish  2022-01          26   come along\n",
       "991   2022-01-16     Welt   german  2022-01          26        world\n",
       "994   2022-01-16    paja   spanish  2022-01          26        straw\n",
       "990   2022-01-16     weit   german  2022-01          26          far\n",
       "1002  2022-01-17     bote  spanish  2022-01          26         boat\n",
       "\n",
       "[269 rows x 6 columns]"
      ]
     },
     "execution_count": 12,
     "metadata": {},
     "output_type": "execute_result"
    }
   ],
   "source": [
    "df[df.duplicated(subset = 'en_word', keep = False)].sort_values(by = ['date'])"
   ]
  },
  {
   "cell_type": "code",
   "execution_count": 13,
   "metadata": {},
   "outputs": [],
   "source": [
    "duplicated_concepts = df[df.duplicated(subset = 'en_word', keep = False)].sort_values(by = ['date'])"
   ]
  },
  {
   "cell_type": "code",
   "execution_count": 14,
   "metadata": {},
   "outputs": [],
   "source": [
    "concepts = df[df.duplicated(subset = 'en_word', keep = False)].sort_values(by = ['date'])['en_word'].unique()"
   ]
  },
  {
   "cell_type": "code",
   "execution_count": 15,
   "metadata": {},
   "outputs": [],
   "source": [
    "word_order = np.arange(len(df[df.duplicated(subset = 'en_word', keep = 'first')]))+1"
   ]
  },
  {
   "cell_type": "code",
   "execution_count": 16,
   "metadata": {},
   "outputs": [],
   "source": [
    "word_order_dict = dict(zip(concepts,word_order))"
   ]
  },
  {
   "cell_type": "code",
   "execution_count": 17,
   "metadata": {},
   "outputs": [
    {
     "data": {
      "text/html": [
       "<div>\n",
       "<style scoped>\n",
       "    .dataframe tbody tr th:only-of-type {\n",
       "        vertical-align: middle;\n",
       "    }\n",
       "\n",
       "    .dataframe tbody tr th {\n",
       "        vertical-align: top;\n",
       "    }\n",
       "\n",
       "    .dataframe thead th {\n",
       "        text-align: right;\n",
       "    }\n",
       "</style>\n",
       "<table border=\"1\" class=\"dataframe\">\n",
       "  <thead>\n",
       "    <tr style=\"text-align: right;\">\n",
       "      <th></th>\n",
       "      <th>date</th>\n",
       "      <th>word</th>\n",
       "      <th>language</th>\n",
       "      <th>month</th>\n",
       "      <th>Leo_months</th>\n",
       "      <th>en_word</th>\n",
       "    </tr>\n",
       "  </thead>\n",
       "  <tbody>\n",
       "    <tr>\n",
       "      <th>1</th>\n",
       "      <td>2020-09-24</td>\n",
       "      <td>agua</td>\n",
       "      <td>spanish</td>\n",
       "      <td>2020-09</td>\n",
       "      <td>11</td>\n",
       "      <td>water</td>\n",
       "    </tr>\n",
       "    <tr>\n",
       "      <th>2</th>\n",
       "      <td>2020-10-07</td>\n",
       "      <td>Abuela</td>\n",
       "      <td>spanish</td>\n",
       "      <td>2020-10</td>\n",
       "      <td>11</td>\n",
       "      <td>grandmother</td>\n",
       "    </tr>\n",
       "    <tr>\n",
       "      <th>3</th>\n",
       "      <td>2020-10-31</td>\n",
       "      <td>luna</td>\n",
       "      <td>spanish</td>\n",
       "      <td>2020-10</td>\n",
       "      <td>12</td>\n",
       "      <td>moon</td>\n",
       "    </tr>\n",
       "    <tr>\n",
       "      <th>6</th>\n",
       "      <td>2020-11-18</td>\n",
       "      <td>Ball</td>\n",
       "      <td>german</td>\n",
       "      <td>2020-11</td>\n",
       "      <td>13</td>\n",
       "      <td>ball</td>\n",
       "    </tr>\n",
       "    <tr>\n",
       "      <th>8</th>\n",
       "      <td>2020-11-23</td>\n",
       "      <td>no</td>\n",
       "      <td>spanish</td>\n",
       "      <td>2020-11</td>\n",
       "      <td>13</td>\n",
       "      <td>no</td>\n",
       "    </tr>\n",
       "    <tr>\n",
       "      <th>...</th>\n",
       "      <td>...</td>\n",
       "      <td>...</td>\n",
       "      <td>...</td>\n",
       "      <td>...</td>\n",
       "      <td>...</td>\n",
       "      <td>...</td>\n",
       "    </tr>\n",
       "    <tr>\n",
       "      <th>981</th>\n",
       "      <td>2022-01-14</td>\n",
       "      <td>ándale</td>\n",
       "      <td>spanish</td>\n",
       "      <td>2022-01</td>\n",
       "      <td>26</td>\n",
       "      <td>come along</td>\n",
       "    </tr>\n",
       "    <tr>\n",
       "      <th>991</th>\n",
       "      <td>2022-01-16</td>\n",
       "      <td>Welt</td>\n",
       "      <td>german</td>\n",
       "      <td>2022-01</td>\n",
       "      <td>26</td>\n",
       "      <td>world</td>\n",
       "    </tr>\n",
       "    <tr>\n",
       "      <th>994</th>\n",
       "      <td>2022-01-16</td>\n",
       "      <td>paja</td>\n",
       "      <td>spanish</td>\n",
       "      <td>2022-01</td>\n",
       "      <td>26</td>\n",
       "      <td>straw</td>\n",
       "    </tr>\n",
       "    <tr>\n",
       "      <th>990</th>\n",
       "      <td>2022-01-16</td>\n",
       "      <td>weit</td>\n",
       "      <td>german</td>\n",
       "      <td>2022-01</td>\n",
       "      <td>26</td>\n",
       "      <td>far</td>\n",
       "    </tr>\n",
       "    <tr>\n",
       "      <th>1002</th>\n",
       "      <td>2022-01-17</td>\n",
       "      <td>bote</td>\n",
       "      <td>spanish</td>\n",
       "      <td>2022-01</td>\n",
       "      <td>26</td>\n",
       "      <td>boat</td>\n",
       "    </tr>\n",
       "  </tbody>\n",
       "</table>\n",
       "<p>269 rows × 6 columns</p>\n",
       "</div>"
      ],
      "text/plain": [
       "            date     word language    month  Leo_months      en_word\n",
       "1     2020-09-24     agua  spanish  2020-09          11        water\n",
       "2     2020-10-07   Abuela  spanish  2020-10          11  grandmother\n",
       "3     2020-10-31     luna  spanish  2020-10          12         moon\n",
       "6     2020-11-18     Ball   german  2020-11          13         ball\n",
       "8     2020-11-23       no  spanish  2020-11          13           no\n",
       "...          ...      ...      ...      ...         ...          ...\n",
       "981   2022-01-14  ándale   spanish  2022-01          26   come along\n",
       "991   2022-01-16     Welt   german  2022-01          26        world\n",
       "994   2022-01-16    paja   spanish  2022-01          26        straw\n",
       "990   2022-01-16     weit   german  2022-01          26          far\n",
       "1002  2022-01-17     bote  spanish  2022-01          26         boat\n",
       "\n",
       "[269 rows x 6 columns]"
      ]
     },
     "execution_count": 17,
     "metadata": {},
     "output_type": "execute_result"
    }
   ],
   "source": [
    "duplicated_concepts"
   ]
  },
  {
   "cell_type": "code",
   "execution_count": 18,
   "metadata": {},
   "outputs": [],
   "source": [
    "duplicated_concepts['order'] = duplicated_concepts['en_word'].map(word_order_dict)"
   ]
  },
  {
   "cell_type": "code",
   "execution_count": 19,
   "metadata": {},
   "outputs": [
    {
     "data": {
      "text/html": [
       "<div>\n",
       "<style scoped>\n",
       "    .dataframe tbody tr th:only-of-type {\n",
       "        vertical-align: middle;\n",
       "    }\n",
       "\n",
       "    .dataframe tbody tr th {\n",
       "        vertical-align: top;\n",
       "    }\n",
       "\n",
       "    .dataframe thead th {\n",
       "        text-align: right;\n",
       "    }\n",
       "</style>\n",
       "<table border=\"1\" class=\"dataframe\">\n",
       "  <thead>\n",
       "    <tr style=\"text-align: right;\">\n",
       "      <th></th>\n",
       "      <th>date</th>\n",
       "      <th>word</th>\n",
       "      <th>language</th>\n",
       "      <th>month</th>\n",
       "      <th>Leo_months</th>\n",
       "      <th>en_word</th>\n",
       "      <th>order</th>\n",
       "    </tr>\n",
       "  </thead>\n",
       "  <tbody>\n",
       "    <tr>\n",
       "      <th>1</th>\n",
       "      <td>2020-09-24</td>\n",
       "      <td>agua</td>\n",
       "      <td>spanish</td>\n",
       "      <td>2020-09</td>\n",
       "      <td>11</td>\n",
       "      <td>water</td>\n",
       "      <td>1</td>\n",
       "    </tr>\n",
       "    <tr>\n",
       "      <th>100</th>\n",
       "      <td>2021-04-22</td>\n",
       "      <td>Wasser</td>\n",
       "      <td>german</td>\n",
       "      <td>2021-04</td>\n",
       "      <td>18</td>\n",
       "      <td>water</td>\n",
       "      <td>1</td>\n",
       "    </tr>\n",
       "    <tr>\n",
       "      <th>42</th>\n",
       "      <td>2021-02-15</td>\n",
       "      <td>Oma</td>\n",
       "      <td>german</td>\n",
       "      <td>2021-02</td>\n",
       "      <td>15</td>\n",
       "      <td>grandmother</td>\n",
       "      <td>2</td>\n",
       "    </tr>\n",
       "    <tr>\n",
       "      <th>2</th>\n",
       "      <td>2020-10-07</td>\n",
       "      <td>Abuela</td>\n",
       "      <td>spanish</td>\n",
       "      <td>2020-10</td>\n",
       "      <td>11</td>\n",
       "      <td>grandmother</td>\n",
       "      <td>2</td>\n",
       "    </tr>\n",
       "    <tr>\n",
       "      <th>3</th>\n",
       "      <td>2020-10-31</td>\n",
       "      <td>luna</td>\n",
       "      <td>spanish</td>\n",
       "      <td>2020-10</td>\n",
       "      <td>12</td>\n",
       "      <td>moon</td>\n",
       "      <td>3</td>\n",
       "    </tr>\n",
       "  </tbody>\n",
       "</table>\n",
       "</div>"
      ],
      "text/plain": [
       "           date    word language    month  Leo_months      en_word  order\n",
       "1    2020-09-24    agua  spanish  2020-09          11        water      1\n",
       "100  2021-04-22  Wasser   german  2021-04          18        water      1\n",
       "42   2021-02-15     Oma   german  2021-02          15  grandmother      2\n",
       "2    2020-10-07  Abuela  spanish  2020-10          11  grandmother      2\n",
       "3    2020-10-31    luna  spanish  2020-10          12         moon      3"
      ]
     },
     "execution_count": 19,
     "metadata": {},
     "output_type": "execute_result"
    }
   ],
   "source": [
    "duplicated_concepts.sort_values(by = 'order').head()"
   ]
  },
  {
   "cell_type": "code",
   "execution_count": 20,
   "metadata": {},
   "outputs": [
    {
     "data": {
      "text/html": [
       "<div>\n",
       "<style scoped>\n",
       "    .dataframe tbody tr th:only-of-type {\n",
       "        vertical-align: middle;\n",
       "    }\n",
       "\n",
       "    .dataframe tbody tr th {\n",
       "        vertical-align: top;\n",
       "    }\n",
       "\n",
       "    .dataframe thead th {\n",
       "        text-align: right;\n",
       "    }\n",
       "</style>\n",
       "<table border=\"1\" class=\"dataframe\">\n",
       "  <thead>\n",
       "    <tr style=\"text-align: right;\">\n",
       "      <th></th>\n",
       "      <th>date</th>\n",
       "      <th>word</th>\n",
       "      <th>language</th>\n",
       "      <th>month</th>\n",
       "      <th>Leo_months</th>\n",
       "      <th>en_word</th>\n",
       "      <th>order</th>\n",
       "    </tr>\n",
       "  </thead>\n",
       "  <tbody>\n",
       "    <tr>\n",
       "      <th>61</th>\n",
       "      <td>2021-03-15</td>\n",
       "      <td>bubbles</td>\n",
       "      <td>neutral</td>\n",
       "      <td>2021-03</td>\n",
       "      <td>16</td>\n",
       "      <td>bubbles</td>\n",
       "      <td>23</td>\n",
       "    </tr>\n",
       "    <tr>\n",
       "      <th>117</th>\n",
       "      <td>2021-04-30</td>\n",
       "      <td>bye</td>\n",
       "      <td>neutral</td>\n",
       "      <td>2021-04</td>\n",
       "      <td>18</td>\n",
       "      <td>bye</td>\n",
       "      <td>13</td>\n",
       "    </tr>\n",
       "  </tbody>\n",
       "</table>\n",
       "</div>"
      ],
      "text/plain": [
       "           date     word language    month  Leo_months  en_word  order\n",
       "61   2021-03-15  bubbles  neutral  2021-03          16  bubbles     23\n",
       "117  2021-04-30      bye  neutral  2021-04          18      bye     13"
      ]
     },
     "execution_count": 20,
     "metadata": {},
     "output_type": "execute_result"
    }
   ],
   "source": [
    "duplicated_concepts.loc[duplicated_concepts['language'] == 'neutral']"
   ]
  },
  {
   "cell_type": "code",
   "execution_count": 21,
   "metadata": {},
   "outputs": [],
   "source": [
    "word = 'water'"
   ]
  },
  {
   "cell_type": "code",
   "execution_count": 22,
   "metadata": {},
   "outputs": [],
   "source": [
    "# y axis"
   ]
  },
  {
   "cell_type": "code",
   "execution_count": 23,
   "metadata": {},
   "outputs": [
    {
     "data": {
      "text/plain": [
       "1"
      ]
     },
     "execution_count": 23,
     "metadata": {},
     "output_type": "execute_result"
    }
   ],
   "source": [
    "duplicated_concepts.loc[duplicated_concepts.en_word == word].reset_index().iloc[0].order"
   ]
  },
  {
   "cell_type": "code",
   "execution_count": 24,
   "metadata": {},
   "outputs": [],
   "source": [
    "#x start"
   ]
  },
  {
   "cell_type": "code",
   "execution_count": 25,
   "metadata": {},
   "outputs": [
    {
     "data": {
      "text/plain": [
       "11"
      ]
     },
     "execution_count": 25,
     "metadata": {},
     "output_type": "execute_result"
    }
   ],
   "source": [
    "duplicated_concepts.loc[duplicated_concepts.en_word == word].reset_index().iloc[0].Leo_months"
   ]
  },
  {
   "cell_type": "code",
   "execution_count": 26,
   "metadata": {},
   "outputs": [],
   "source": [
    "# x end"
   ]
  },
  {
   "cell_type": "code",
   "execution_count": 27,
   "metadata": {},
   "outputs": [
    {
     "data": {
      "text/plain": [
       "18"
      ]
     },
     "execution_count": 27,
     "metadata": {},
     "output_type": "execute_result"
    }
   ],
   "source": [
    "duplicated_concepts.loc[duplicated_concepts.en_word == word].reset_index().iloc[1].Leo_months"
   ]
  },
  {
   "cell_type": "code",
   "execution_count": 28,
   "metadata": {},
   "outputs": [
    {
     "data": {
      "text/plain": [
       "'spanish'"
      ]
     },
     "execution_count": 28,
     "metadata": {},
     "output_type": "execute_result"
    }
   ],
   "source": [
    "duplicated_concepts.loc[duplicated_concepts.en_word == word].reset_index().iloc[0].language"
   ]
  },
  {
   "cell_type": "code",
   "execution_count": 29,
   "metadata": {},
   "outputs": [
    {
     "data": {
      "text/plain": [
       "'#F28123'"
      ]
     },
     "execution_count": 29,
     "metadata": {},
     "output_type": "execute_result"
    }
   ],
   "source": [
    "colors_dic[duplicated_concepts.loc[duplicated_concepts.en_word == word].reset_index().iloc[0].language]"
   ]
  },
  {
   "cell_type": "code",
   "execution_count": 30,
   "metadata": {},
   "outputs": [
    {
     "data": {
      "image/png": "[encoded data removed]",
      "text/plain": [
       "<Figure size 432x1800 with 1 Axes>"
      ]
     },
     "metadata": {
      "needs_background": "light"
     },
     "output_type": "display_data"
    }
   ],
   "source": [
    "import numpy as np\n",
    "import matplotlib.pyplot as plt\n",
    "\n",
    "fig = plt.figure(figsize = (6,25))\n",
    "ax = sns.scatterplot(data = duplicated_concepts, \n",
    "               x = 'Leo_months', \n",
    "               y = 'order', \n",
    "               hue = 'language',\n",
    "               palette = colors)\n",
    "\n",
    "major_ticks = np.arange(1, 130, 1)\n",
    "\n",
    "ax.set_ylim(0, 128)\n",
    "ax.set_yticks(major_ticks)\n",
    "ax.set_yticklabels(concepts)\n",
    "ax.set_ylabel(\"\")\n",
    "\n",
    "# And a corresponding grid\n",
    "#ax.grid(which='major', axis = 'y')\n",
    "sns.despine()\n",
    "\n",
    "word = 'water'\n",
    "for word in concepts:\n",
    "    y = duplicated_concepts.loc[duplicated_concepts.en_word == word].reset_index().iloc[0].order\n",
    "    x_start = duplicated_concepts.loc[duplicated_concepts.en_word == word].reset_index().iloc[0].Leo_months\n",
    "    x_end = duplicated_concepts.loc[duplicated_concepts.en_word == word].reset_index().iloc[1].Leo_months\n",
    "    color = colors_dic[duplicated_concepts.loc[duplicated_concepts.en_word == word].reset_index().iloc[0].language]\n",
    "    ax.hlines(y, x_start, x_end, color, linewidth=2)\n",
    "\n",
    "plt.tight_layout()\n",
    "plt.savefig('concepts_first_language.png')"
   ]
  },
  {
   "cell_type": "code",
   "execution_count": 32,
   "metadata": {},
   "outputs": [
    {
     "data": {
      "text/plain": [
       "array(['water', 'grandmother', 'moon', 'ball', 'no', 'light', 'eye',\n",
       "       'this', 'hot', 'hello'], dtype=object)"
      ]
     },
     "execution_count": 32,
     "metadata": {},
     "output_type": "execute_result"
    }
   ],
   "source": [
    "concepts[0:10]"
   ]
  },
  {
   "cell_type": "code",
   "execution_count": 34,
   "metadata": {},
   "outputs": [],
   "source": [
    "first_ten = duplicated_concepts.loc[duplicated_concepts.en_word.isin(concepts[0:10])]"
   ]
  },
  {
   "cell_type": "code",
   "execution_count": 43,
   "metadata": {},
   "outputs": [
    {
     "data": {
      "image/png": "[encoded data removed]",
      "text/plain": [
       "<Figure size 432x432 with 1 Axes>"
      ]
     },
     "metadata": {
      "needs_background": "light"
     },
     "output_type": "display_data"
    }
   ],
   "source": [
    "import numpy as np\n",
    "import matplotlib.pyplot as plt\n",
    "\n",
    "fig = plt.figure(figsize = (6,6))\n",
    "ax = sns.scatterplot(data = first_ten, \n",
    "               x = 'Leo_months', \n",
    "               y = 'order', \n",
    "               hue = 'language',\n",
    "               palette = colors[0:2])\n",
    "\n",
    "major_ticks = np.arange(1, 11, 1)\n",
    "\n",
    "ax.set_ylim(0, 11)\n",
    "ax.set_xlim(10, 27)\n",
    "ax.set_xticks(np.arange(10,27,1))\n",
    "ax.set_yticks(major_ticks)\n",
    "ax.set_yticklabels(concepts)\n",
    "ax.set_ylabel(\"\")\n",
    "\n",
    "# And a corresponding grid\n",
    "#ax.grid(which='major', axis = 'y')\n",
    "sns.despine()\n",
    "\n",
    "for word in concepts[0:10]:\n",
    "    y = duplicated_concepts.loc[duplicated_concepts.en_word == word].reset_index().iloc[0].order\n",
    "    x_start = duplicated_concepts.loc[duplicated_concepts.en_word == word].reset_index().iloc[0].Leo_months\n",
    "    x_end = duplicated_concepts.loc[duplicated_concepts.en_word == word].reset_index().iloc[1].Leo_months\n",
    "    color = colors_dic[duplicated_concepts.loc[duplicated_concepts.en_word == word].reset_index().iloc[0].language]\n",
    "    ax.hlines(y, x_start, x_end, color, linewidth=2)\n",
    "\n",
    "#plt.tight_layout()\n",
    "#plt.savefig('concepts_first_language.png')"
   ]
  },
  {
   "cell_type": "markdown",
   "metadata": {},
   "source": [
    "#### First words by month"
   ]
  },
  {
   "cell_type": "code",
   "execution_count": 57,
   "metadata": {},
   "outputs": [
    {
     "data": {
      "text/html": [
       "<div>\n",
       "<style scoped>\n",
       "    .dataframe tbody tr th:only-of-type {\n",
       "        vertical-align: middle;\n",
       "    }\n",
       "\n",
       "    .dataframe tbody tr th {\n",
       "        vertical-align: top;\n",
       "    }\n",
       "\n",
       "    .dataframe thead th {\n",
       "        text-align: right;\n",
       "    }\n",
       "</style>\n",
       "<table border=\"1\" class=\"dataframe\">\n",
       "  <thead>\n",
       "    <tr style=\"text-align: right;\">\n",
       "      <th></th>\n",
       "      <th>date</th>\n",
       "      <th>word</th>\n",
       "      <th>language</th>\n",
       "      <th>month</th>\n",
       "      <th>Leo_months</th>\n",
       "      <th>en_word</th>\n",
       "    </tr>\n",
       "  </thead>\n",
       "  <tbody>\n",
       "    <tr>\n",
       "      <th>1</th>\n",
       "      <td>2020-09-24</td>\n",
       "      <td>agua</td>\n",
       "      <td>spanish</td>\n",
       "      <td>2020-09</td>\n",
       "      <td>11</td>\n",
       "      <td>water</td>\n",
       "    </tr>\n",
       "    <tr>\n",
       "      <th>2</th>\n",
       "      <td>2020-10-07</td>\n",
       "      <td>Abuela</td>\n",
       "      <td>spanish</td>\n",
       "      <td>2020-10</td>\n",
       "      <td>11</td>\n",
       "      <td>grandmother</td>\n",
       "    </tr>\n",
       "    <tr>\n",
       "      <th>3</th>\n",
       "      <td>2020-10-31</td>\n",
       "      <td>luna</td>\n",
       "      <td>spanish</td>\n",
       "      <td>2020-10</td>\n",
       "      <td>12</td>\n",
       "      <td>moon</td>\n",
       "    </tr>\n",
       "    <tr>\n",
       "      <th>6</th>\n",
       "      <td>2020-11-18</td>\n",
       "      <td>Ball</td>\n",
       "      <td>german</td>\n",
       "      <td>2020-11</td>\n",
       "      <td>13</td>\n",
       "      <td>ball</td>\n",
       "    </tr>\n",
       "    <tr>\n",
       "      <th>8</th>\n",
       "      <td>2020-11-23</td>\n",
       "      <td>no</td>\n",
       "      <td>spanish</td>\n",
       "      <td>2020-11</td>\n",
       "      <td>13</td>\n",
       "      <td>no</td>\n",
       "    </tr>\n",
       "    <tr>\n",
       "      <th>...</th>\n",
       "      <td>...</td>\n",
       "      <td>...</td>\n",
       "      <td>...</td>\n",
       "      <td>...</td>\n",
       "      <td>...</td>\n",
       "      <td>...</td>\n",
       "    </tr>\n",
       "    <tr>\n",
       "      <th>896</th>\n",
       "      <td>2021-12-08</td>\n",
       "      <td>los</td>\n",
       "      <td>spanish</td>\n",
       "      <td>2021-12</td>\n",
       "      <td>25</td>\n",
       "      <td>the</td>\n",
       "    </tr>\n",
       "    <tr>\n",
       "      <th>897</th>\n",
       "      <td>2021-12-08</td>\n",
       "      <td>la</td>\n",
       "      <td>spanish</td>\n",
       "      <td>2021-12</td>\n",
       "      <td>25</td>\n",
       "      <td>the</td>\n",
       "    </tr>\n",
       "    <tr>\n",
       "      <th>898</th>\n",
       "      <td>2021-12-08</td>\n",
       "      <td>Geschichte</td>\n",
       "      <td>german</td>\n",
       "      <td>2021-12</td>\n",
       "      <td>25</td>\n",
       "      <td>story</td>\n",
       "    </tr>\n",
       "    <tr>\n",
       "      <th>911</th>\n",
       "      <td>2021-12-12</td>\n",
       "      <td>Stroh</td>\n",
       "      <td>german</td>\n",
       "      <td>2021-12</td>\n",
       "      <td>25</td>\n",
       "      <td>straw</td>\n",
       "    </tr>\n",
       "    <tr>\n",
       "      <th>933</th>\n",
       "      <td>2021-12-24</td>\n",
       "      <td>Geschenk</td>\n",
       "      <td>german</td>\n",
       "      <td>2021-12</td>\n",
       "      <td>26</td>\n",
       "      <td>gift</td>\n",
       "    </tr>\n",
       "  </tbody>\n",
       "</table>\n",
       "<p>141 rows × 6 columns</p>\n",
       "</div>"
      ],
      "text/plain": [
       "           date        word language    month  Leo_months      en_word\n",
       "1    2020-09-24        agua  spanish  2020-09          11        water\n",
       "2    2020-10-07      Abuela  spanish  2020-10          11  grandmother\n",
       "3    2020-10-31        luna  spanish  2020-10          12         moon\n",
       "6    2020-11-18        Ball   german  2020-11          13         ball\n",
       "8    2020-11-23          no  spanish  2020-11          13           no\n",
       "..          ...         ...      ...      ...         ...          ...\n",
       "896  2021-12-08         los  spanish  2021-12          25          the\n",
       "897  2021-12-08          la  spanish  2021-12          25          the\n",
       "898  2021-12-08  Geschichte   german  2021-12          25        story\n",
       "911  2021-12-12       Stroh   german  2021-12          25        straw\n",
       "933  2021-12-24   Geschenk    german  2021-12          26         gift\n",
       "\n",
       "[141 rows x 6 columns]"
      ]
     },
     "execution_count": 57,
     "metadata": {},
     "output_type": "execute_result"
    }
   ],
   "source": [
    "df[df.duplicated(subset = 'en_word', keep= 'last')].sort_values(by = 'date')"
   ]
  },
  {
   "cell_type": "code",
   "execution_count": 61,
   "metadata": {},
   "outputs": [
    {
     "data": {
      "text/plain": [
       "Leo_months\n",
       "11     2\n",
       "12     1\n",
       "13     7\n",
       "14     3\n",
       "15     6\n",
       "16     6\n",
       "17     2\n",
       "18    27\n",
       "19    28\n",
       "20    19\n",
       "21    10\n",
       "22     7\n",
       "23     3\n",
       "24     9\n",
       "25    10\n",
       "26     1\n",
       "Name: word, dtype: int64"
      ]
     },
     "execution_count": 61,
     "metadata": {},
     "output_type": "execute_result"
    }
   ],
   "source": [
    "df[df.duplicated(subset = 'en_word', keep= 'last')].groupby(['Leo_months'])['word'].count()"
   ]
  },
  {
   "cell_type": "code",
   "execution_count": 73,
   "metadata": {},
   "outputs": [],
   "source": [
    "dominant_language = df[df.duplicated(subset = 'en_word', keep= 'last')].\\\n",
    "                    groupby(['Leo_months','language'])['word'].\\\n",
    "                    count().to_frame().unstack().fillna(0)"
   ]
  },
  {
   "cell_type": "code",
   "execution_count": 75,
   "metadata": {},
   "outputs": [],
   "source": [
    "dominant_language.columns = dominant_language.columns.droplevel()"
   ]
  },
  {
   "cell_type": "code",
   "execution_count": 76,
   "metadata": {},
   "outputs": [
    {
     "data": {
      "text/html": [
       "<div>\n",
       "<style scoped>\n",
       "    .dataframe tbody tr th:only-of-type {\n",
       "        vertical-align: middle;\n",
       "    }\n",
       "\n",
       "    .dataframe tbody tr th {\n",
       "        vertical-align: top;\n",
       "    }\n",
       "\n",
       "    .dataframe thead th {\n",
       "        text-align: right;\n",
       "    }\n",
       "</style>\n",
       "<table border=\"1\" class=\"dataframe\">\n",
       "  <thead>\n",
       "    <tr style=\"text-align: right;\">\n",
       "      <th>language</th>\n",
       "      <th>german</th>\n",
       "      <th>neutral</th>\n",
       "      <th>spanish</th>\n",
       "    </tr>\n",
       "    <tr>\n",
       "      <th>Leo_months</th>\n",
       "      <th></th>\n",
       "      <th></th>\n",
       "      <th></th>\n",
       "    </tr>\n",
       "  </thead>\n",
       "  <tbody>\n",
       "    <tr>\n",
       "      <th>11</th>\n",
       "      <td>0.0</td>\n",
       "      <td>0.0</td>\n",
       "      <td>2.0</td>\n",
       "    </tr>\n",
       "    <tr>\n",
       "      <th>12</th>\n",
       "      <td>0.0</td>\n",
       "      <td>0.0</td>\n",
       "      <td>1.0</td>\n",
       "    </tr>\n",
       "    <tr>\n",
       "      <th>13</th>\n",
       "      <td>3.0</td>\n",
       "      <td>0.0</td>\n",
       "      <td>4.0</td>\n",
       "    </tr>\n",
       "    <tr>\n",
       "      <th>14</th>\n",
       "      <td>1.0</td>\n",
       "      <td>0.0</td>\n",
       "      <td>2.0</td>\n",
       "    </tr>\n",
       "    <tr>\n",
       "      <th>15</th>\n",
       "      <td>2.0</td>\n",
       "      <td>0.0</td>\n",
       "      <td>4.0</td>\n",
       "    </tr>\n",
       "  </tbody>\n",
       "</table>\n",
       "</div>"
      ],
      "text/plain": [
       "language    german  neutral  spanish\n",
       "Leo_months                          \n",
       "11             0.0      0.0      2.0\n",
       "12             0.0      0.0      1.0\n",
       "13             3.0      0.0      4.0\n",
       "14             1.0      0.0      2.0\n",
       "15             2.0      0.0      4.0"
      ]
     },
     "execution_count": 76,
     "metadata": {},
     "output_type": "execute_result"
    }
   ],
   "source": [
    "dominant_language.head()"
   ]
  },
  {
   "cell_type": "code",
   "execution_count": 99,
   "metadata": {},
   "outputs": [],
   "source": [
    "dominant_language = dominant_language.drop('neutral', axis = 1)"
   ]
  },
  {
   "cell_type": "code",
   "execution_count": 105,
   "metadata": {},
   "outputs": [
    {
     "data": {
      "text/html": [
       "<div>\n",
       "<style scoped>\n",
       "    .dataframe tbody tr th:only-of-type {\n",
       "        vertical-align: middle;\n",
       "    }\n",
       "\n",
       "    .dataframe tbody tr th {\n",
       "        vertical-align: top;\n",
       "    }\n",
       "\n",
       "    .dataframe thead th {\n",
       "        text-align: right;\n",
       "    }\n",
       "</style>\n",
       "<table border=\"1\" class=\"dataframe\">\n",
       "  <thead>\n",
       "    <tr style=\"text-align: right;\">\n",
       "      <th>language</th>\n",
       "      <th>german</th>\n",
       "      <th>spanish</th>\n",
       "      <th>german_percentage</th>\n",
       "      <th>spanish_percentage</th>\n",
       "    </tr>\n",
       "    <tr>\n",
       "      <th>Leo_months</th>\n",
       "      <th></th>\n",
       "      <th></th>\n",
       "      <th></th>\n",
       "      <th></th>\n",
       "    </tr>\n",
       "  </thead>\n",
       "  <tbody>\n",
       "    <tr>\n",
       "      <th>11</th>\n",
       "      <td>0.0</td>\n",
       "      <td>2.0</td>\n",
       "      <td>0.0</td>\n",
       "      <td>2.0</td>\n",
       "    </tr>\n",
       "    <tr>\n",
       "      <th>12</th>\n",
       "      <td>0.0</td>\n",
       "      <td>1.0</td>\n",
       "      <td>0.0</td>\n",
       "      <td>1.0</td>\n",
       "    </tr>\n",
       "    <tr>\n",
       "      <th>13</th>\n",
       "      <td>3.0</td>\n",
       "      <td>4.0</td>\n",
       "      <td>19.0</td>\n",
       "      <td>11.0</td>\n",
       "    </tr>\n",
       "    <tr>\n",
       "      <th>14</th>\n",
       "      <td>1.0</td>\n",
       "      <td>2.0</td>\n",
       "      <td>11.0</td>\n",
       "      <td>10.0</td>\n",
       "    </tr>\n",
       "    <tr>\n",
       "      <th>15</th>\n",
       "      <td>2.0</td>\n",
       "      <td>4.0</td>\n",
       "      <td>12.0</td>\n",
       "      <td>14.0</td>\n",
       "    </tr>\n",
       "    <tr>\n",
       "      <th>16</th>\n",
       "      <td>2.0</td>\n",
       "      <td>3.0</td>\n",
       "      <td>15.0</td>\n",
       "      <td>11.0</td>\n",
       "    </tr>\n",
       "    <tr>\n",
       "      <th>17</th>\n",
       "      <td>1.0</td>\n",
       "      <td>1.0</td>\n",
       "      <td>25.0</td>\n",
       "      <td>3.0</td>\n",
       "    </tr>\n",
       "    <tr>\n",
       "      <th>18</th>\n",
       "      <td>10.0</td>\n",
       "      <td>16.0</td>\n",
       "      <td>20.0</td>\n",
       "      <td>23.0</td>\n",
       "    </tr>\n",
       "    <tr>\n",
       "      <th>19</th>\n",
       "      <td>10.0</td>\n",
       "      <td>18.0</td>\n",
       "      <td>18.0</td>\n",
       "      <td>24.0</td>\n",
       "    </tr>\n",
       "    <tr>\n",
       "      <th>20</th>\n",
       "      <td>8.0</td>\n",
       "      <td>11.0</td>\n",
       "      <td>22.0</td>\n",
       "      <td>19.0</td>\n",
       "    </tr>\n",
       "    <tr>\n",
       "      <th>21</th>\n",
       "      <td>5.0</td>\n",
       "      <td>5.0</td>\n",
       "      <td>26.0</td>\n",
       "      <td>11.0</td>\n",
       "    </tr>\n",
       "    <tr>\n",
       "      <th>22</th>\n",
       "      <td>6.0</td>\n",
       "      <td>1.0</td>\n",
       "      <td>74.0</td>\n",
       "      <td>1.0</td>\n",
       "    </tr>\n",
       "    <tr>\n",
       "      <th>23</th>\n",
       "      <td>2.0</td>\n",
       "      <td>1.0</td>\n",
       "      <td>40.0</td>\n",
       "      <td>2.0</td>\n",
       "    </tr>\n",
       "    <tr>\n",
       "      <th>24</th>\n",
       "      <td>7.0</td>\n",
       "      <td>2.0</td>\n",
       "      <td>63.0</td>\n",
       "      <td>3.0</td>\n",
       "    </tr>\n",
       "    <tr>\n",
       "      <th>25</th>\n",
       "      <td>6.0</td>\n",
       "      <td>4.0</td>\n",
       "      <td>37.0</td>\n",
       "      <td>8.0</td>\n",
       "    </tr>\n",
       "    <tr>\n",
       "      <th>26</th>\n",
       "      <td>1.0</td>\n",
       "      <td>0.0</td>\n",
       "      <td>98.0</td>\n",
       "      <td>0.0</td>\n",
       "    </tr>\n",
       "  </tbody>\n",
       "</table>\n",
       "</div>"
      ],
      "text/plain": [
       "language    german  spanish  german_percentage  spanish_percentage\n",
       "Leo_months                                                        \n",
       "11             0.0      2.0                0.0                 2.0\n",
       "12             0.0      1.0                0.0                 1.0\n",
       "13             3.0      4.0               19.0                11.0\n",
       "14             1.0      2.0               11.0                10.0\n",
       "15             2.0      4.0               12.0                14.0\n",
       "16             2.0      3.0               15.0                11.0\n",
       "17             1.0      1.0               25.0                 3.0\n",
       "18            10.0     16.0               20.0                23.0\n",
       "19            10.0     18.0               18.0                24.0\n",
       "20             8.0     11.0               22.0                19.0\n",
       "21             5.0      5.0               26.0                11.0\n",
       "22             6.0      1.0               74.0                 1.0\n",
       "23             2.0      1.0               40.0                 2.0\n",
       "24             7.0      2.0               63.0                 3.0\n",
       "25             6.0      4.0               37.0                 8.0\n",
       "26             1.0      0.0               98.0                 0.0"
      ]
     },
     "execution_count": 105,
     "metadata": {},
     "output_type": "execute_result"
    }
   ],
   "source": [
    "dominant_language"
   ]
  },
  {
   "cell_type": "code",
   "execution_count": 108,
   "metadata": {},
   "outputs": [],
   "source": [
    "dominant_language['german_percentage'] = round(dominant_language['german']/\n",
    "                                               dominant_language[['german', 'spanish']].sum(axis = 1),2)*100"
   ]
  },
  {
   "cell_type": "code",
   "execution_count": 109,
   "metadata": {},
   "outputs": [],
   "source": [
    "dominant_language['spanish_percentage'] = round(dominant_language['spanish']/\n",
    "                                                dominant_language[['german', 'spanish']].sum(axis = 1),2)*100"
   ]
  },
  {
   "cell_type": "code",
   "execution_count": 110,
   "metadata": {},
   "outputs": [
    {
     "data": {
      "text/plain": [
       "<matplotlib.axes._subplots.AxesSubplot at 0x7ffa6a888c70>"
      ]
     },
     "execution_count": 110,
     "metadata": {},
     "output_type": "execute_result"
    },
    {
     "data": {
      "image/png": "[encoded data removed]",
      "text/plain": [
       "<Figure size 432x288 with 1 Axes>"
      ]
     },
     "metadata": {
      "needs_background": "light"
     },
     "output_type": "display_data"
    }
   ],
   "source": [
    "dominant_language[['german_percentage','spanish_percentage' ]].plot()"
   ]
  },
  {
   "cell_type": "markdown",
   "metadata": {},
   "source": [
    "#### Further ideas\n",
    "- By month, which percentage of words are new words\n",
    "- Time span before learning words in 2 languages"
   ]
  },
  {
   "cell_type": "markdown",
   "metadata": {},
   "source": [
    "### Expansion of semantic space"
   ]
  },
  {
   "cell_type": "markdown",
   "metadata": {},
   "source": [
    "- Get word vectors for every word\n",
    "    - Q: What to do with compound words? 'Get out?'\n",
    "        - Take average?\n",
    "        - Use both?\n",
    "- Make PCA \n",
    "+ Clustering?\n",
    "    - Hopefully identify clear groups\n",
    "- Plot in time\n",
    "    - and with the language used"
   ]
  },
  {
   "cell_type": "code",
   "execution_count": 113,
   "metadata": {},
   "outputs": [
    {
     "data": {
      "text/html": [
       "<div>\n",
       "<style scoped>\n",
       "    .dataframe tbody tr th:only-of-type {\n",
       "        vertical-align: middle;\n",
       "    }\n",
       "\n",
       "    .dataframe tbody tr th {\n",
       "        vertical-align: top;\n",
       "    }\n",
       "\n",
       "    .dataframe thead th {\n",
       "        text-align: right;\n",
       "    }\n",
       "</style>\n",
       "<table border=\"1\" class=\"dataframe\">\n",
       "  <thead>\n",
       "    <tr style=\"text-align: right;\">\n",
       "      <th></th>\n",
       "      <th>date</th>\n",
       "      <th>word</th>\n",
       "      <th>language</th>\n",
       "      <th>month</th>\n",
       "      <th>Leo_months</th>\n",
       "      <th>en_word</th>\n",
       "    </tr>\n",
       "  </thead>\n",
       "  <tbody>\n",
       "    <tr>\n",
       "      <th>0</th>\n",
       "      <td>2020-08-07</td>\n",
       "      <td>Mama</td>\n",
       "      <td>neutral</td>\n",
       "      <td>2020-08</td>\n",
       "      <td>9</td>\n",
       "      <td>mama</td>\n",
       "    </tr>\n",
       "    <tr>\n",
       "      <th>1</th>\n",
       "      <td>2020-09-24</td>\n",
       "      <td>agua</td>\n",
       "      <td>spanish</td>\n",
       "      <td>2020-09</td>\n",
       "      <td>11</td>\n",
       "      <td>water</td>\n",
       "    </tr>\n",
       "    <tr>\n",
       "      <th>2</th>\n",
       "      <td>2020-10-07</td>\n",
       "      <td>Abuela</td>\n",
       "      <td>spanish</td>\n",
       "      <td>2020-10</td>\n",
       "      <td>11</td>\n",
       "      <td>grandmother</td>\n",
       "    </tr>\n",
       "    <tr>\n",
       "      <th>3</th>\n",
       "      <td>2020-10-31</td>\n",
       "      <td>luna</td>\n",
       "      <td>spanish</td>\n",
       "      <td>2020-10</td>\n",
       "      <td>12</td>\n",
       "      <td>moon</td>\n",
       "    </tr>\n",
       "    <tr>\n",
       "      <th>4</th>\n",
       "      <td>2020-11-05</td>\n",
       "      <td>Banane</td>\n",
       "      <td>german</td>\n",
       "      <td>2020-11</td>\n",
       "      <td>12</td>\n",
       "      <td>banana</td>\n",
       "    </tr>\n",
       "    <tr>\n",
       "      <th>...</th>\n",
       "      <td>...</td>\n",
       "      <td>...</td>\n",
       "      <td>...</td>\n",
       "      <td>...</td>\n",
       "      <td>...</td>\n",
       "      <td>...</td>\n",
       "    </tr>\n",
       "    <tr>\n",
       "      <th>998</th>\n",
       "      <td>2022-01-17</td>\n",
       "      <td>compartir</td>\n",
       "      <td>spanish</td>\n",
       "      <td>2022-01</td>\n",
       "      <td>26</td>\n",
       "      <td>to share</td>\n",
       "    </tr>\n",
       "    <tr>\n",
       "      <th>999</th>\n",
       "      <td>2022-01-17</td>\n",
       "      <td>Fahrtende</td>\n",
       "      <td>german</td>\n",
       "      <td>2022-01</td>\n",
       "      <td>26</td>\n",
       "      <td>driving</td>\n",
       "    </tr>\n",
       "    <tr>\n",
       "      <th>1000</th>\n",
       "      <td>2022-01-17</td>\n",
       "      <td>schimpfen</td>\n",
       "      <td>german</td>\n",
       "      <td>2022-01</td>\n",
       "      <td>26</td>\n",
       "      <td>rant</td>\n",
       "    </tr>\n",
       "    <tr>\n",
       "      <th>1001</th>\n",
       "      <td>2022-01-17</td>\n",
       "      <td>Schnupfen</td>\n",
       "      <td>german</td>\n",
       "      <td>2022-01</td>\n",
       "      <td>26</td>\n",
       "      <td>sniffles</td>\n",
       "    </tr>\n",
       "    <tr>\n",
       "      <th>1003</th>\n",
       "      <td>2022-01-17</td>\n",
       "      <td>nur</td>\n",
       "      <td>german</td>\n",
       "      <td>2022-01</td>\n",
       "      <td>26</td>\n",
       "      <td>only</td>\n",
       "    </tr>\n",
       "  </tbody>\n",
       "</table>\n",
       "<p>805 rows × 6 columns</p>\n",
       "</div>"
      ],
      "text/plain": [
       "            date        word language    month  Leo_months      en_word\n",
       "0     2020-08-07        Mama  neutral  2020-08           9         mama\n",
       "1     2020-09-24        agua  spanish  2020-09          11        water\n",
       "2     2020-10-07      Abuela  spanish  2020-10          11  grandmother\n",
       "3     2020-10-31        luna  spanish  2020-10          12         moon\n",
       "4     2020-11-05      Banane   german  2020-11          12       banana\n",
       "...          ...         ...      ...      ...         ...          ...\n",
       "998   2022-01-17  compartir   spanish  2022-01          26     to share\n",
       "999   2022-01-17   Fahrtende   german  2022-01          26      driving\n",
       "1000  2022-01-17   schimpfen   german  2022-01          26         rant\n",
       "1001  2022-01-17   Schnupfen   german  2022-01          26     sniffles\n",
       "1003  2022-01-17         nur   german  2022-01          26        only \n",
       "\n",
       "[805 rows x 6 columns]"
      ]
     },
     "execution_count": 113,
     "metadata": {},
     "output_type": "execute_result"
    }
   ],
   "source": [
    "df.drop_duplicates(subset= 'en_word', keep = 'first')"
   ]
  },
  {
   "cell_type": "code",
   "execution_count": null,
   "metadata": {},
   "outputs": [],
   "source": []
  },
  {
   "cell_type": "code",
   "execution_count": 114,
   "metadata": {},
   "outputs": [],
   "source": [
    "import spacy"
   ]
  },
  {
   "cell_type": "code",
   "execution_count": 115,
   "metadata": {},
   "outputs": [],
   "source": [
    "nlp = spacy.load('en_core_web_md')"
   ]
  },
  {
   "cell_type": "code",
   "execution_count": 117,
   "metadata": {},
   "outputs": [
    {
     "data": {
      "text/plain": [
       "'mama'"
      ]
     },
     "execution_count": 117,
     "metadata": {},
     "output_type": "execute_result"
    }
   ],
   "source": [
    "df['en_word'][0]"
   ]
  },
  {
   "cell_type": "code",
   "execution_count": 118,
   "metadata": {},
   "outputs": [],
   "source": [
    "doc = nlp(df['en_word'][0])"
   ]
  },
  {
   "cell_type": "code",
   "execution_count": 167,
   "metadata": {},
   "outputs": [
    {
     "data": {
      "text/plain": [
       "'welcome'"
      ]
     },
     "execution_count": 167,
     "metadata": {},
     "output_type": "execute_result"
    }
   ],
   "source": [
    "[token.lemma_ for token in nlp(\"you're welcome\") if not token.is_stop][0]"
   ]
  },
  {
   "cell_type": "code",
   "execution_count": 163,
   "metadata": {},
   "outputs": [
    {
     "data": {
      "text/plain": [
       "['let']"
      ]
     },
     "execution_count": 163,
     "metadata": {},
     "output_type": "execute_result"
    }
   ],
   "source": [
    "[token.lemma_ for token in nlp('let’s go') if not token.is_stop]"
   ]
  },
  {
   "cell_type": "code",
   "execution_count": 156,
   "metadata": {},
   "outputs": [
    {
     "data": {
      "text/plain": [
       "0     -0.698545\n",
       "1      0.095867\n",
       "2      0.110095\n",
       "3      0.695700\n",
       "4     -0.222163\n",
       "         ...   \n",
       "295    0.041885\n",
       "296   -0.158647\n",
       "297   -0.476730\n",
       "298    0.275600\n",
       "299    0.272685\n",
       "Length: 300, dtype: float64"
      ]
     },
     "execution_count": 156,
     "metadata": {},
     "output_type": "execute_result"
    }
   ],
   "source": [
    "pd.DataFrame([nlp(df['en_word'][13])[1].vector, nlp(df['en_word'][13])[0].vector]).mean()"
   ]
  },
  {
   "cell_type": "code",
   "execution_count": 155,
   "metadata": {},
   "outputs": [
    {
     "data": {
      "text/plain": [
       "-0.698545"
      ]
     },
     "execution_count": 155,
     "metadata": {},
     "output_type": "execute_result"
    }
   ],
   "source": [
    "np.mean([-0.62388,-0.77321])"
   ]
  },
  {
   "cell_type": "code",
   "execution_count": null,
   "metadata": {},
   "outputs": [],
   "source": [
    "## function"
   ]
  },
  {
   "cell_type": "code",
   "execution_count": null,
   "metadata": {},
   "outputs": [],
   "source": [
    "#for each concept\n",
    "    get lemmas is not stop word and not oov\n",
    "    get vectors\n",
    "    if more than one vector take average?\n",
    "    make new list with [Leo_months, en_word, vector]\n",
    "    "
   ]
  },
  {
   "cell_type": "code",
   "execution_count": 181,
   "metadata": {},
   "outputs": [
    {
     "data": {
      "text/plain": [
       "['to', 'go']"
      ]
     },
     "execution_count": 181,
     "metadata": {},
     "output_type": "execute_result"
    }
   ],
   "source": [
    "[token.lemma_ for token in nlp('to go')]"
   ]
  },
  {
   "cell_type": "code",
   "execution_count": 186,
   "metadata": {},
   "outputs": [
    {
     "data": {
      "text/plain": [
       "2"
      ]
     },
     "execution_count": 186,
     "metadata": {},
     "output_type": "execute_result"
    }
   ],
   "source": [
    "len(nlp('to go'))"
   ]
  },
  {
   "cell_type": "code",
   "execution_count": 197,
   "metadata": {},
   "outputs": [
    {
     "data": {
      "text/plain": [
       "False"
      ]
     },
     "execution_count": 197,
     "metadata": {},
     "output_type": "execute_result"
    }
   ],
   "source": [
    "nlp('marta')[0].is_oov "
   ]
  },
  {
   "cell_type": "code",
   "execution_count": 203,
   "metadata": {},
   "outputs": [
    {
     "data": {
      "text/plain": [
       "False"
      ]
     },
     "execution_count": 203,
     "metadata": {},
     "output_type": "execute_result"
    }
   ],
   "source": [
    "nlp('pepe')[0].is_oov "
   ]
  },
  {
   "cell_type": "code",
   "execution_count": 206,
   "metadata": {},
   "outputs": [
    {
     "data": {
      "text/plain": [
       "929"
      ]
     },
     "execution_count": 206,
     "metadata": {},
     "output_type": "execute_result"
    }
   ],
   "source": [
    "len(vectors)"
   ]
  },
  {
   "cell_type": "code",
   "execution_count": 207,
   "metadata": {},
   "outputs": [],
   "source": [
    "concepts_v = []\n",
    "vectors = []\n",
    "for concept in list(df['en_word']):\n",
    "    if len(nlp(concept)) > 1:\n",
    "        lemma_ = [token.lemma_ for token in nlp(concept) if not token.is_oov][0]\n",
    "    else: \n",
    "        lemma_ = [token.lemma_ for token in nlp(concept)][0]\n",
    "    if nlp(lemma_)[0].is_oov == False:\n",
    "        vectors.append(nlp(lemma_).vector)\n",
    "        concepts_v.append(concept)"
   ]
  },
  {
   "cell_type": "code",
   "execution_count": 222,
   "metadata": {},
   "outputs": [],
   "source": [
    "df_vec = pd.DataFrame(vectors)"
   ]
  },
  {
   "cell_type": "code",
   "execution_count": 223,
   "metadata": {},
   "outputs": [],
   "source": [
    "df_vec['concept'] = concepts_v"
   ]
  },
  {
   "cell_type": "code",
   "execution_count": 224,
   "metadata": {},
   "outputs": [
    {
     "data": {
      "text/html": [
       "<div>\n",
       "<style scoped>\n",
       "    .dataframe tbody tr th:only-of-type {\n",
       "        vertical-align: middle;\n",
       "    }\n",
       "\n",
       "    .dataframe tbody tr th {\n",
       "        vertical-align: top;\n",
       "    }\n",
       "\n",
       "    .dataframe thead th {\n",
       "        text-align: right;\n",
       "    }\n",
       "</style>\n",
       "<table border=\"1\" class=\"dataframe\">\n",
       "  <thead>\n",
       "    <tr style=\"text-align: right;\">\n",
       "      <th></th>\n",
       "      <th>0</th>\n",
       "      <th>1</th>\n",
       "      <th>2</th>\n",
       "      <th>3</th>\n",
       "      <th>4</th>\n",
       "      <th>5</th>\n",
       "      <th>6</th>\n",
       "      <th>7</th>\n",
       "      <th>8</th>\n",
       "      <th>9</th>\n",
       "      <th>...</th>\n",
       "      <th>291</th>\n",
       "      <th>292</th>\n",
       "      <th>293</th>\n",
       "      <th>294</th>\n",
       "      <th>295</th>\n",
       "      <th>296</th>\n",
       "      <th>297</th>\n",
       "      <th>298</th>\n",
       "      <th>299</th>\n",
       "      <th>concept</th>\n",
       "    </tr>\n",
       "  </thead>\n",
       "  <tbody>\n",
       "    <tr>\n",
       "      <th>0</th>\n",
       "      <td>-0.038662</td>\n",
       "      <td>-0.171320</td>\n",
       "      <td>-0.060793</td>\n",
       "      <td>0.360240</td>\n",
       "      <td>0.108920</td>\n",
       "      <td>0.311140</td>\n",
       "      <td>0.245320</td>\n",
       "      <td>-0.58040</td>\n",
       "      <td>0.150580</td>\n",
       "      <td>0.83558</td>\n",
       "      <td>...</td>\n",
       "      <td>0.136710</td>\n",
       "      <td>-0.092258</td>\n",
       "      <td>0.45823</td>\n",
       "      <td>0.847740</td>\n",
       "      <td>0.100910</td>\n",
       "      <td>-0.094336</td>\n",
       "      <td>0.34869</td>\n",
       "      <td>-0.152380</td>\n",
       "      <td>-0.487900</td>\n",
       "      <td>mama</td>\n",
       "    </tr>\n",
       "    <tr>\n",
       "      <th>1</th>\n",
       "      <td>-0.036665</td>\n",
       "      <td>0.201060</td>\n",
       "      <td>0.285100</td>\n",
       "      <td>-0.432460</td>\n",
       "      <td>-0.395450</td>\n",
       "      <td>0.309870</td>\n",
       "      <td>-0.791590</td>\n",
       "      <td>0.41187</td>\n",
       "      <td>-0.332710</td>\n",
       "      <td>1.93790</td>\n",
       "      <td>...</td>\n",
       "      <td>-0.469940</td>\n",
       "      <td>0.233210</td>\n",
       "      <td>-0.69223</td>\n",
       "      <td>-0.128010</td>\n",
       "      <td>0.460700</td>\n",
       "      <td>-0.566770</td>\n",
       "      <td>-0.34485</td>\n",
       "      <td>0.167980</td>\n",
       "      <td>-0.169520</td>\n",
       "      <td>water</td>\n",
       "    </tr>\n",
       "    <tr>\n",
       "      <th>2</th>\n",
       "      <td>0.261310</td>\n",
       "      <td>0.275300</td>\n",
       "      <td>-0.328270</td>\n",
       "      <td>0.687400</td>\n",
       "      <td>-0.052246</td>\n",
       "      <td>-0.093345</td>\n",
       "      <td>0.475050</td>\n",
       "      <td>-0.54182</td>\n",
       "      <td>-0.059537</td>\n",
       "      <td>2.78490</td>\n",
       "      <td>...</td>\n",
       "      <td>0.149450</td>\n",
       "      <td>0.013548</td>\n",
       "      <td>0.76875</td>\n",
       "      <td>0.444510</td>\n",
       "      <td>-0.122020</td>\n",
       "      <td>0.245260</td>\n",
       "      <td>0.14553</td>\n",
       "      <td>0.063300</td>\n",
       "      <td>-0.091110</td>\n",
       "      <td>grandmother</td>\n",
       "    </tr>\n",
       "    <tr>\n",
       "      <th>3</th>\n",
       "      <td>-0.018247</td>\n",
       "      <td>-0.295180</td>\n",
       "      <td>-0.092399</td>\n",
       "      <td>0.072396</td>\n",
       "      <td>-0.249910</td>\n",
       "      <td>0.085404</td>\n",
       "      <td>-0.262680</td>\n",
       "      <td>0.50399</td>\n",
       "      <td>-0.042881</td>\n",
       "      <td>1.35530</td>\n",
       "      <td>...</td>\n",
       "      <td>0.407150</td>\n",
       "      <td>0.142610</td>\n",
       "      <td>-0.10119</td>\n",
       "      <td>0.066653</td>\n",
       "      <td>0.189320</td>\n",
       "      <td>-0.504630</td>\n",
       "      <td>0.12478</td>\n",
       "      <td>0.336190</td>\n",
       "      <td>0.026979</td>\n",
       "      <td>moon</td>\n",
       "    </tr>\n",
       "    <tr>\n",
       "      <th>4</th>\n",
       "      <td>0.202280</td>\n",
       "      <td>-0.076618</td>\n",
       "      <td>0.370320</td>\n",
       "      <td>0.032845</td>\n",
       "      <td>-0.419570</td>\n",
       "      <td>0.072069</td>\n",
       "      <td>-0.374760</td>\n",
       "      <td>0.05746</td>\n",
       "      <td>-0.012401</td>\n",
       "      <td>0.52949</td>\n",
       "      <td>...</td>\n",
       "      <td>0.366850</td>\n",
       "      <td>0.002525</td>\n",
       "      <td>-0.64009</td>\n",
       "      <td>-0.297650</td>\n",
       "      <td>0.789430</td>\n",
       "      <td>0.331680</td>\n",
       "      <td>-1.19660</td>\n",
       "      <td>-0.047156</td>\n",
       "      <td>0.531750</td>\n",
       "      <td>banana</td>\n",
       "    </tr>\n",
       "    <tr>\n",
       "      <th>...</th>\n",
       "      <td>...</td>\n",
       "      <td>...</td>\n",
       "      <td>...</td>\n",
       "      <td>...</td>\n",
       "      <td>...</td>\n",
       "      <td>...</td>\n",
       "      <td>...</td>\n",
       "      <td>...</td>\n",
       "      <td>...</td>\n",
       "      <td>...</td>\n",
       "      <td>...</td>\n",
       "      <td>...</td>\n",
       "      <td>...</td>\n",
       "      <td>...</td>\n",
       "      <td>...</td>\n",
       "      <td>...</td>\n",
       "      <td>...</td>\n",
       "      <td>...</td>\n",
       "      <td>...</td>\n",
       "      <td>...</td>\n",
       "      <td>...</td>\n",
       "    </tr>\n",
       "    <tr>\n",
       "      <th>924</th>\n",
       "      <td>0.572150</td>\n",
       "      <td>0.503000</td>\n",
       "      <td>0.068908</td>\n",
       "      <td>-0.416830</td>\n",
       "      <td>0.081836</td>\n",
       "      <td>0.009009</td>\n",
       "      <td>0.219100</td>\n",
       "      <td>-0.16711</td>\n",
       "      <td>0.348460</td>\n",
       "      <td>1.96340</td>\n",
       "      <td>...</td>\n",
       "      <td>0.406620</td>\n",
       "      <td>0.149770</td>\n",
       "      <td>-0.20387</td>\n",
       "      <td>-0.028436</td>\n",
       "      <td>-0.280750</td>\n",
       "      <td>0.408890</td>\n",
       "      <td>0.59051</td>\n",
       "      <td>-0.030667</td>\n",
       "      <td>-0.262740</td>\n",
       "      <td>driving</td>\n",
       "    </tr>\n",
       "    <tr>\n",
       "      <th>925</th>\n",
       "      <td>-0.696890</td>\n",
       "      <td>0.062715</td>\n",
       "      <td>-0.055077</td>\n",
       "      <td>0.427980</td>\n",
       "      <td>-0.506830</td>\n",
       "      <td>0.404390</td>\n",
       "      <td>0.441190</td>\n",
       "      <td>-0.37545</td>\n",
       "      <td>-0.060242</td>\n",
       "      <td>1.49850</td>\n",
       "      <td>...</td>\n",
       "      <td>0.223600</td>\n",
       "      <td>0.021548</td>\n",
       "      <td>0.14209</td>\n",
       "      <td>0.235580</td>\n",
       "      <td>0.367400</td>\n",
       "      <td>-0.414000</td>\n",
       "      <td>0.23124</td>\n",
       "      <td>-0.484320</td>\n",
       "      <td>0.287280</td>\n",
       "      <td>rant</td>\n",
       "    </tr>\n",
       "    <tr>\n",
       "      <th>926</th>\n",
       "      <td>-0.435260</td>\n",
       "      <td>-0.473630</td>\n",
       "      <td>-0.169930</td>\n",
       "      <td>0.037953</td>\n",
       "      <td>0.143430</td>\n",
       "      <td>0.008942</td>\n",
       "      <td>0.532130</td>\n",
       "      <td>-0.29075</td>\n",
       "      <td>0.028203</td>\n",
       "      <td>0.44459</td>\n",
       "      <td>...</td>\n",
       "      <td>0.166100</td>\n",
       "      <td>-0.107250</td>\n",
       "      <td>-0.48159</td>\n",
       "      <td>0.566960</td>\n",
       "      <td>-0.055976</td>\n",
       "      <td>0.185390</td>\n",
       "      <td>0.28410</td>\n",
       "      <td>-0.117500</td>\n",
       "      <td>0.112360</td>\n",
       "      <td>sniffles</td>\n",
       "    </tr>\n",
       "    <tr>\n",
       "      <th>927</th>\n",
       "      <td>0.331910</td>\n",
       "      <td>-0.248560</td>\n",
       "      <td>-0.178420</td>\n",
       "      <td>-0.133710</td>\n",
       "      <td>0.504450</td>\n",
       "      <td>-0.016468</td>\n",
       "      <td>-0.264270</td>\n",
       "      <td>-0.14870</td>\n",
       "      <td>-0.035293</td>\n",
       "      <td>2.08940</td>\n",
       "      <td>...</td>\n",
       "      <td>-0.731240</td>\n",
       "      <td>0.102730</td>\n",
       "      <td>-0.76016</td>\n",
       "      <td>0.127150</td>\n",
       "      <td>0.255580</td>\n",
       "      <td>-0.418300</td>\n",
       "      <td>0.12910</td>\n",
       "      <td>-0.173650</td>\n",
       "      <td>-0.486140</td>\n",
       "      <td>boat</td>\n",
       "    </tr>\n",
       "    <tr>\n",
       "      <th>928</th>\n",
       "      <td>-0.122530</td>\n",
       "      <td>0.186930</td>\n",
       "      <td>0.048162</td>\n",
       "      <td>-0.054006</td>\n",
       "      <td>0.146990</td>\n",
       "      <td>-0.261390</td>\n",
       "      <td>-0.014913</td>\n",
       "      <td>-0.11215</td>\n",
       "      <td>0.195260</td>\n",
       "      <td>2.48490</td>\n",
       "      <td>...</td>\n",
       "      <td>-0.040817</td>\n",
       "      <td>-0.100480</td>\n",
       "      <td>-0.21418</td>\n",
       "      <td>0.063343</td>\n",
       "      <td>0.068096</td>\n",
       "      <td>-0.333370</td>\n",
       "      <td>-0.35951</td>\n",
       "      <td>0.246790</td>\n",
       "      <td>-0.029387</td>\n",
       "      <td>only</td>\n",
       "    </tr>\n",
       "  </tbody>\n",
       "</table>\n",
       "<p>929 rows × 301 columns</p>\n",
       "</div>"
      ],
      "text/plain": [
       "            0         1         2         3         4         5         6  \\\n",
       "0   -0.038662 -0.171320 -0.060793  0.360240  0.108920  0.311140  0.245320   \n",
       "1   -0.036665  0.201060  0.285100 -0.432460 -0.395450  0.309870 -0.791590   \n",
       "2    0.261310  0.275300 -0.328270  0.687400 -0.052246 -0.093345  0.475050   \n",
       "3   -0.018247 -0.295180 -0.092399  0.072396 -0.249910  0.085404 -0.262680   \n",
       "4    0.202280 -0.076618  0.370320  0.032845 -0.419570  0.072069 -0.374760   \n",
       "..        ...       ...       ...       ...       ...       ...       ...   \n",
       "924  0.572150  0.503000  0.068908 -0.416830  0.081836  0.009009  0.219100   \n",
       "925 -0.696890  0.062715 -0.055077  0.427980 -0.506830  0.404390  0.441190   \n",
       "926 -0.435260 -0.473630 -0.169930  0.037953  0.143430  0.008942  0.532130   \n",
       "927  0.331910 -0.248560 -0.178420 -0.133710  0.504450 -0.016468 -0.264270   \n",
       "928 -0.122530  0.186930  0.048162 -0.054006  0.146990 -0.261390 -0.014913   \n",
       "\n",
       "           7         8        9  ...       291       292      293       294  \\\n",
       "0   -0.58040  0.150580  0.83558  ...  0.136710 -0.092258  0.45823  0.847740   \n",
       "1    0.41187 -0.332710  1.93790  ... -0.469940  0.233210 -0.69223 -0.128010   \n",
       "2   -0.54182 -0.059537  2.78490  ...  0.149450  0.013548  0.76875  0.444510   \n",
       "3    0.50399 -0.042881  1.35530  ...  0.407150  0.142610 -0.10119  0.066653   \n",
       "4    0.05746 -0.012401  0.52949  ...  0.366850  0.002525 -0.64009 -0.297650   \n",
       "..       ...       ...      ...  ...       ...       ...      ...       ...   \n",
       "924 -0.16711  0.348460  1.96340  ...  0.406620  0.149770 -0.20387 -0.028436   \n",
       "925 -0.37545 -0.060242  1.49850  ...  0.223600  0.021548  0.14209  0.235580   \n",
       "926 -0.29075  0.028203  0.44459  ...  0.166100 -0.107250 -0.48159  0.566960   \n",
       "927 -0.14870 -0.035293  2.08940  ... -0.731240  0.102730 -0.76016  0.127150   \n",
       "928 -0.11215  0.195260  2.48490  ... -0.040817 -0.100480 -0.21418  0.063343   \n",
       "\n",
       "          295       296      297       298       299      concept  \n",
       "0    0.100910 -0.094336  0.34869 -0.152380 -0.487900         mama  \n",
       "1    0.460700 -0.566770 -0.34485  0.167980 -0.169520        water  \n",
       "2   -0.122020  0.245260  0.14553  0.063300 -0.091110  grandmother  \n",
       "3    0.189320 -0.504630  0.12478  0.336190  0.026979         moon  \n",
       "4    0.789430  0.331680 -1.19660 -0.047156  0.531750       banana  \n",
       "..        ...       ...      ...       ...       ...          ...  \n",
       "924 -0.280750  0.408890  0.59051 -0.030667 -0.262740      driving  \n",
       "925  0.367400 -0.414000  0.23124 -0.484320  0.287280         rant  \n",
       "926 -0.055976  0.185390  0.28410 -0.117500  0.112360     sniffles  \n",
       "927  0.255580 -0.418300  0.12910 -0.173650 -0.486140         boat  \n",
       "928  0.068096 -0.333370 -0.35951  0.246790 -0.029387        only   \n",
       "\n",
       "[929 rows x 301 columns]"
      ]
     },
     "execution_count": 224,
     "metadata": {},
     "output_type": "execute_result"
    }
   ],
   "source": [
    "df_vec"
   ]
  },
  {
   "cell_type": "code",
   "execution_count": null,
   "metadata": {},
   "outputs": [],
   "source": []
  }
 ],
 "metadata": {
  "kernelspec": {
   "display_name": "Python 3",
   "language": "python",
   "name": "python3"
  },
  "language_info": {
   "codemirror_mode": {
    "name": "ipython",
    "version": 3
   },
   "file_extension": ".py",
   "mimetype": "text/x-python",
   "name": "python",
   "nbconvert_exporter": "python",
   "pygments_lexer": "ipython3",
   "version": "3.8.3"
  }
 },
 "nbformat": 4,
 "nbformat_minor": 4
}
